{
 "cells": [
  {
   "cell_type": "code",
   "execution_count": 1,
   "metadata": {},
   "outputs": [],
   "source": [
    "import pandas, numpy\n",
    "\n",
    "import scipy, scipy.stats\n",
    "\n",
    "import matplotlib, matplotlib.pyplot\n",
    "matplotlib.rcParams.update({'font.size':20, 'font.family':'FreeSans', 'xtick.labelsize':20, 'ytick.labelsize':20})"
   ]
  },
  {
   "cell_type": "markdown",
   "metadata": {},
   "source": [
    "# 0. user-defined variables"
   ]
  },
  {
   "cell_type": "code",
   "execution_count": 2,
   "metadata": {},
   "outputs": [],
   "source": [
    "data_file ='/home/adrian/projects/HUVECs/data/csv/HUVEC_AllMeasurements_Summary_21.12.2020.13C_OSK_EC45_Extracellular.csv'"
   ]
  },
  {
   "cell_type": "markdown",
   "metadata": {},
   "source": [
    "# 1. read data"
   ]
  },
  {
   "cell_type": "code",
   "execution_count": 3,
   "metadata": {
    "scrolled": false
   },
   "outputs": [
    {
     "data": {
      "text/html": [
       "<div>\n",
       "<style scoped>\n",
       "    .dataframe tbody tr th:only-of-type {\n",
       "        vertical-align: middle;\n",
       "    }\n",
       "\n",
       "    .dataframe tbody tr th {\n",
       "        vertical-align: top;\n",
       "    }\n",
       "\n",
       "    .dataframe thead th {\n",
       "        text-align: right;\n",
       "    }\n",
       "</style>\n",
       "<table border=\"1\" class=\"dataframe\">\n",
       "  <thead>\n",
       "    <tr style=\"text-align: right;\">\n",
       "      <th></th>\n",
       "      <th>Sample ID</th>\n",
       "      <th>Sample ID Rosa</th>\n",
       "      <th>Experiment</th>\n",
       "      <th>13label</th>\n",
       "      <th>Treatment</th>\n",
       "      <th>Timepoint (h)</th>\n",
       "      <th>Cell numbers</th>\n",
       "      <th>Lactate</th>\n",
       "      <th>Glucose</th>\n",
       "      <th>Glutamate</th>\n",
       "    </tr>\n",
       "  </thead>\n",
       "  <tbody>\n",
       "    <tr>\n",
       "      <th>0</th>\n",
       "      <td>EGM-0-1</td>\n",
       "      <td>NaN</td>\n",
       "      <td>EC45</td>\n",
       "      <td>egm</td>\n",
       "      <td>0.0</td>\n",
       "      <td>0</td>\n",
       "      <td>NaN</td>\n",
       "      <td>0.0000</td>\n",
       "      <td>0.0000</td>\n",
       "      <td>0.015</td>\n",
       "    </tr>\n",
       "    <tr>\n",
       "      <th>1</th>\n",
       "      <td>EGM-0-2</td>\n",
       "      <td>NaN</td>\n",
       "      <td>EC45</td>\n",
       "      <td>egm</td>\n",
       "      <td>0.0</td>\n",
       "      <td>0</td>\n",
       "      <td>NaN</td>\n",
       "      <td>0.0751</td>\n",
       "      <td>0.0000</td>\n",
       "      <td>0.000</td>\n",
       "    </tr>\n",
       "    <tr>\n",
       "      <th>2</th>\n",
       "      <td>EGM-24-1</td>\n",
       "      <td>NaN</td>\n",
       "      <td>EC45</td>\n",
       "      <td>egm</td>\n",
       "      <td>0.0</td>\n",
       "      <td>24</td>\n",
       "      <td>NaN</td>\n",
       "      <td>0.0009</td>\n",
       "      <td>0.0021</td>\n",
       "      <td>0.000</td>\n",
       "    </tr>\n",
       "    <tr>\n",
       "      <th>3</th>\n",
       "      <td>EGM-24-2</td>\n",
       "      <td>NaN</td>\n",
       "      <td>EC45</td>\n",
       "      <td>egm</td>\n",
       "      <td>0.0</td>\n",
       "      <td>24</td>\n",
       "      <td>NaN</td>\n",
       "      <td>0.0007</td>\n",
       "      <td>0.0005</td>\n",
       "      <td>0.000</td>\n",
       "    </tr>\n",
       "    <tr>\n",
       "      <th>4</th>\n",
       "      <td>EGM-24-3</td>\n",
       "      <td>NaN</td>\n",
       "      <td>EC45</td>\n",
       "      <td>egm</td>\n",
       "      <td>0.0</td>\n",
       "      <td>24</td>\n",
       "      <td>NaN</td>\n",
       "      <td>0.0004</td>\n",
       "      <td>0.0000</td>\n",
       "      <td>0.000</td>\n",
       "    </tr>\n",
       "  </tbody>\n",
       "</table>\n",
       "</div>"
      ],
      "text/plain": [
       "  Sample ID  Sample ID Rosa Experiment 13label  Treatment  Timepoint (h)  \\\n",
       "0   EGM-0-1             NaN       EC45     egm        0.0              0   \n",
       "1   EGM-0-2             NaN       EC45     egm        0.0              0   \n",
       "2  EGM-24-1             NaN       EC45     egm        0.0             24   \n",
       "3  EGM-24-2             NaN       EC45     egm        0.0             24   \n",
       "4  EGM-24-3             NaN       EC45     egm        0.0             24   \n",
       "\n",
       "   Cell numbers  Lactate  Glucose  Glutamate  \n",
       "0           NaN   0.0000   0.0000      0.015  \n",
       "1           NaN   0.0751   0.0000      0.000  \n",
       "2           NaN   0.0009   0.0021      0.000  \n",
       "3           NaN   0.0007   0.0005      0.000  \n",
       "4           NaN   0.0004   0.0000      0.000  "
      ]
     },
     "execution_count": 3,
     "metadata": {},
     "output_type": "execute_result"
    }
   ],
   "source": [
    "df = pandas.read_csv(data_file)\n",
    "df.astype('float', errors='ignore')\n",
    "df.head()"
   ]
  },
  {
   "cell_type": "markdown",
   "metadata": {},
   "source": [
    "# 2. format data"
   ]
  },
  {
   "cell_type": "markdown",
   "metadata": {},
   "source": [
    "## 2.1. select appropriate rows"
   ]
  },
  {
   "cell_type": "code",
   "execution_count": 4,
   "metadata": {},
   "outputs": [],
   "source": [
    "# removing egm of T4 and T24 because they are very close to zero\n",
    "df = df[~((df['13label'] == 'egm') & (df['Timepoint (h)'] == 0))] \n",
    "df = df[~((df['13label'] == 'egm') & (df['Timepoint (h)'] == 4))] \n",
    "df = df[~((df['13label'] == 'egm') & (df['Timepoint (h)'] == 24))] "
   ]
  },
  {
   "cell_type": "code",
   "execution_count": 5,
   "metadata": {
    "scrolled": false
   },
   "outputs": [
    {
     "name": "stdout",
     "output_type": "stream",
     "text": [
      "       Sample ID  Sample ID Rosa Experiment          13label  Treatment  \\\n",
      "8      F-13C-0-1             NaN       EC45  1,2-13C Glucose        0.0   \n",
      "9      F-13C-0-2             NaN       EC45  1,2-13C Glucose        0.0   \n",
      "10    F-13C-24-1             NaN       EC45  1,2-13C Glucose        0.0   \n",
      "11    F-13C-24-2             NaN       EC45  1,2-13C Glucose        0.0   \n",
      "12    F-13C-24-3             NaN       EC45  1,2-13C Glucose        0.0   \n",
      "13     F-13C-6-1             NaN       EC45  1,2-13C Glucose        0.0   \n",
      "14     F-13C-6-2             NaN       EC45  1,2-13C Glucose        0.0   \n",
      "15     F-13C-6-3             NaN       EC45  1,2-13C Glucose        0.0   \n",
      "16   G-0.5uM-0-1             NaN       EC45  1,2-13C Glucose        0.5   \n",
      "17   G-0.5uM-0-2             NaN       EC45  1,2-13C Glucose        0.5   \n",
      "18  G-0.5uM-24-1             NaN       EC45  1,2-13C Glucose        0.5   \n",
      "19  G-0.5uM-24-2             NaN       EC45  1,2-13C Glucose        0.5   \n",
      "20  G-0.5uM-24-3             NaN       EC45  1,2-13C Glucose        0.5   \n",
      "21   G-0.5uM-6-1             NaN       EC45  1,2-13C Glucose        0.5   \n",
      "22   G-0.5uM-6-2             NaN       EC45  1,2-13C Glucose        0.5   \n",
      "23   G-0.5uM-6-3             NaN       EC45  1,2-13C Glucose        0.5   \n",
      "24     H-5uM-0-1             NaN       EC45  1,2-13C Glucose        5.0   \n",
      "25     H-5uM-0-2             NaN       EC45  1,2-13C Glucose        5.0   \n",
      "26    H-5uM-24-1             NaN       EC45  1,2-13C Glucose        5.0   \n",
      "27    H-5uM-24-2             NaN       EC45  1,2-13C Glucose        5.0   \n",
      "28    H-5uM-24-3             NaN       EC45  1,2-13C Glucose        5.0   \n",
      "29     H-5uM-6-1             NaN       EC45  1,2-13C Glucose        5.0   \n",
      "30     H-5uM-6-2             NaN       EC45  1,2-13C Glucose        5.0   \n",
      "31     H-5uM-6-3             NaN       EC45  1,2-13C Glucose        5.0   \n",
      "\n",
      "    Timepoint (h)  Cell numbers  Lactate  Glucose  Glutamate  \n",
      "8               0           NaN   0.0672   0.1665     0.0273  \n",
      "9               0           NaN   0.0078   0.1699     0.0610  \n",
      "10             24           NaN   0.1357   0.1716     0.0199  \n",
      "11             24           NaN   0.1342   0.1658     0.0178  \n",
      "12             24           NaN   0.1256   0.1660     0.0121  \n",
      "13              4           NaN   0.0754   0.1688     0.0000  \n",
      "14              4           NaN   0.0591   0.1638     0.0000  \n",
      "15              4           NaN   0.0668   0.1755     0.0000  \n",
      "16              0           NaN   0.0725   0.1666     0.0134  \n",
      "17              0           NaN   0.0767   0.1642     0.0146  \n",
      "18             24           NaN   0.1330   0.1627     0.0107  \n",
      "19             24           NaN   0.1409   0.1709     0.0221  \n",
      "20             24           NaN   0.1333   0.1624     0.0297  \n",
      "21              4           NaN   0.0686   0.1652     0.0000  \n",
      "22              4           NaN   0.0784   0.1747     0.0000  \n",
      "23              4           NaN   0.0634   0.1724     0.0000  \n",
      "24              0           NaN   0.0010   0.1747     0.0000  \n",
      "25              0           NaN   0.0018   0.1728     0.0258  \n",
      "26             24           NaN   0.1360   0.1668     0.0205  \n",
      "27             24           NaN   0.1348   0.1653     0.0228  \n",
      "28             24           NaN   0.1404   0.1652     0.0201  \n",
      "29              4           NaN   0.0809   0.1724     0.0065  \n",
      "30              4           NaN   0.0696   0.1743     0.0000  \n",
      "31              4           NaN   0.0735   0.1656     0.0118  \n"
     ]
    }
   ],
   "source": [
    "pandas.set_option(\"display.max_rows\", 200, \"display.max_columns\", 20)\n",
    "print(df)"
   ]
  },
  {
   "cell_type": "markdown",
   "metadata": {},
   "source": [
    "# 3. plot"
   ]
  },
  {
   "cell_type": "code",
   "execution_count": 6,
   "metadata": {
    "scrolled": false
   },
   "outputs": [
    {
     "name": "stdout",
     "output_type": "stream",
     "text": [
      "Lactate\n"
     ]
    },
    {
     "data": {
      "image/png": "[encoded data removed]",
      "text/plain": [
       "<Figure size 432x288 with 1 Axes>"
      ]
     },
     "metadata": {
      "needs_background": "light"
     },
     "output_type": "display_data"
    },
    {
     "name": "stdout",
     "output_type": "stream",
     "text": [
      "Glucose\n"
     ]
    },
    {
     "data": {
      "image/png": "[encoded data removed]",
      "text/plain": [
       "<Figure size 432x288 with 1 Axes>"
      ]
     },
     "metadata": {
      "needs_background": "light"
     },
     "output_type": "display_data"
    },
    {
     "name": "stdout",
     "output_type": "stream",
     "text": [
      "Glutamate\n",
      "6 significant 0.0166 0.021133333333333337 0.04042779918502612\n"
     ]
    },
    {
     "data": {
      "image/png": "[encoded data removed]",
      "text/plain": [
       "<Figure size 432x288 with 1 Axes>"
      ]
     },
     "metadata": {
      "needs_background": "light"
     },
     "output_type": "display_data"
    }
   ],
   "source": [
    "for metab in df.columns[7:]:\n",
    "    \n",
    "    print(metab)\n",
    "    \n",
    "    loc_zero_zero = df[(df['Treatment'] == 0) & (df['Timepoint (h)'] == 0)][metab].values\n",
    "    \n",
    "    loc_four_zero = df[(df['Treatment'] == 0) & (df['Timepoint (h)'] == 4)][metab].values\n",
    "    loc_four_half = df[(df['Treatment'] == 0.5) & (df['Timepoint (h)'] == 4)][metab].values\n",
    "    loc_four_five = df[(df['Treatment'] == 5) & (df['Timepoint (h)'] == 4)][metab].values\n",
    "\n",
    "    loc_twentyfour_zero = df[(df['Treatment'] == 0) & (df['Timepoint (h)'] == 24)][metab].values\n",
    "    loc_twentyfour_half = df[(df['Treatment'] == 0.5) & (df['Timepoint (h)'] == 24)][metab].values\n",
    "    loc_twentyfour_five = df[(df['Treatment'] == 5) & (df['Timepoint (h)'] == 24)][metab].values\n",
    "    \n",
    "    quant = [loc_zero_zero, loc_four_zero, loc_four_half, loc_four_five, loc_twentyfour_zero, loc_twentyfour_half, loc_twentyfour_five]\n",
    "        \n",
    "    ###\n",
    "    ### boxplots\n",
    "    ###\n",
    "    \n",
    "    f = matplotlib.pyplot.figure()\n",
    "    ax = f.add_subplot(111)\n",
    "    \n",
    "    filtered = [element[~numpy.isnan(element)] for element in quant]\n",
    "        \n",
    "    matplotlib.pyplot.boxplot(filtered, showcaps=False, medianprops=dict(linewidth=2, color='black'), boxprops=dict(linewidth=2, color='gray'), whiskerprops=dict(linewidth=2, color='gray'))\n",
    "    \n",
    "    ###\n",
    "    ### scatter plots\n",
    "    ###\n",
    "    \n",
    "    x=[]; y=[]\n",
    "    for i in range(len(quant)):\n",
    "        for j in range(len(quant[i])):\n",
    "            \n",
    "            shift = 0.25\n",
    "            r=-shift/2 + shift*numpy.random.random()\n",
    "            x.append(i+1+r)\n",
    "            \n",
    "            y.append(quant[i][j])\n",
    "            \n",
    "    matplotlib.pyplot.scatter(x, y, s=80, c='black', alpha=1/3, linewidths=0)\n",
    "    \n",
    "    ###\n",
    "    ### statistics\n",
    "    ###\n",
    "    \n",
    "    for pos in [2, 3]:\n",
    "        if list(filtered[1]) != list(filtered[pos]):\n",
    "            stat, pvalue = scipy.stats.mannwhitneyu(filtered[1], filtered[pos])\n",
    "            if 0.01 < pvalue < 0.05:\n",
    "                print(pos, 'significant', numpy.mean(filtered[1]), numpy.mean(filtered[pos]), pvalue)\n",
    "                matplotlib.pyplot.text(pos/5.75, 0.85, '*', transform=ax.transAxes, horizontalalignment='center', verticalalignment='center', fontsize=40)\n",
    "            if pvalue < 0.01:\n",
    "                print(pos, 'very significant', numpy.mean(filtered[1]), numpy.mean(filtered[pos]), pvalue)\n",
    "                matplotlib.pyplot.text(pos/5.5, 0.85, '**', transform=ax.transAxes, horizontalalignment='center', verticalalignment='center', fontsize=40)\n",
    "            \n",
    "    for pos in [5, 6]:\n",
    "        if list(filtered[4]) != list(filtered[pos]):\n",
    "            stat, pvalue = scipy.stats.mannwhitneyu(filtered[4], filtered[pos])\n",
    "            if 0.01 < pvalue < 0.05:\n",
    "                print(pos, 'significant', numpy.mean(filtered[4]), numpy.mean(filtered[pos]), pvalue)\n",
    "                matplotlib.pyplot.text(pos/6.5, 0.85, '*', transform=ax.transAxes, horizontalalignment='center', verticalalignment='center', fontsize=40)\n",
    "            if pvalue < 0.01:\n",
    "                print(pos, 'very significant', numpy.mean(filtered[5]), numpy.mean(filtered[pos]), pvalue)\n",
    "                matplotlib.pyplot.text(pos/6, 0.85, '**', transform=ax.transAxes, horizontalalignment='center', verticalalignment='center', fontsize=40)\n",
    "            \n",
    "    ###\n",
    "    ### close figure\n",
    "    ###\n",
    "    \n",
    "    matplotlib.pyplot.axvline(1.5, alpha=0.5, lw=2, color='black', ls=':')\n",
    "    matplotlib.pyplot.axvline(4.5, alpha=0.5, lw=2, color='black', ls=':')\n",
    "    \n",
    "    matplotlib.pyplot.text(0.055, 0.05, 'T=0', transform=ax.transAxes, horizontalalignment='center', verticalalignment='center')\n",
    "    matplotlib.pyplot.text(0.35, 0.05, 'T=4', transform=ax.transAxes, horizontalalignment='center', verticalalignment='center')\n",
    "    matplotlib.pyplot.text(0.8, 0.05, 'T=24', transform=ax.transAxes, horizontalalignment='center', verticalalignment='center')\n",
    "    \n",
    "    matplotlib.pyplot.xlabel('Treatment (uM)')\n",
    "    matplotlib.pyplot.ylabel('Ratio')\n",
    "    matplotlib.pyplot.xticks([1, 2, 3, 4, 5, 6, 7], ['0', '0', '0.5', '5', '0', '0.5', '5'])\n",
    "    matplotlib.pyplot.title(metab)\n",
    "    matplotlib.pyplot.tight_layout()\n",
    "    matplotlib.pyplot.show()"
   ]
  }
 ],
 "metadata": {
  "kernelspec": {
   "display_name": "Python 3",
   "language": "python",
   "name": "python3"
  },
  "language_info": {
   "codemirror_mode": {
    "name": "ipython",
    "version": 3
   },
   "file_extension": ".py",
   "mimetype": "text/x-python",
   "name": "python",
   "nbconvert_exporter": "python",
   "pygments_lexer": "ipython3",
   "version": "3.7.9"
  }
 },
 "nbformat": 4,
 "nbformat_minor": 4
}
