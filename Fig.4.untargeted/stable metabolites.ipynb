{
 "cells": [
  {
   "cell_type": "markdown",
   "id": "cba1f40f",
   "metadata": {},
   "source": [
    "# Info\n",
    "This scripts finds those metabolites increased and decreased upon stimulation.\n",
    " the rule is abs (log2FC (mean each concentration)) > 1\n",
    " also, consider running a statistical test between basal and treatment values for each concentration."
   ]
  },
  {
   "cell_type": "code",
   "execution_count": 1,
   "id": "e2d906e3",
   "metadata": {},
   "outputs": [],
   "source": [
    "import pandas, numpy, seaborn\n",
    "import scipy, scipy.stats\n",
    "\n",
    "import matplotlib, matplotlib.pyplot\n",
    "matplotlib.rcParams.update({'font.size':20, 'font.family':'sans-serif', 'xtick.labelsize':20, 'ytick.labelsize':20, 'figure.figsize':(9, 6), 'axes.labelsize':20})"
   ]
  },
  {
   "cell_type": "markdown",
   "id": "118b349d",
   "metadata": {},
   "source": [
    "# 0. user-defined variables"
   ]
  },
  {
   "cell_type": "code",
   "execution_count": 2,
   "id": "c1dae51d",
   "metadata": {},
   "outputs": [],
   "source": [
    "storage_file = '/home/adrian/gd15/hi/research/huvec/results/untargeted/cell_number_sample_and_batch_normalized_log10_intensities_untargeted_data.csv'\n",
    "figures_dir = '/home/adrian/gd15/hi/research/huvec/results/untargeted/figures/flat_responders/'"
   ]
  },
  {
   "cell_type": "markdown",
   "id": "78be518f",
   "metadata": {},
   "source": [
    "# 1. read data"
   ]
  },
  {
   "cell_type": "code",
   "execution_count": 3,
   "id": "fb2e8635",
   "metadata": {},
   "outputs": [
    {
     "name": "stdout",
     "output_type": "stream",
     "text": [
      "(123, 1233)\n"
     ]
    },
    {
     "data": {
      "text/html": [
       "<div>\n",
       "<style scoped>\n",
       "    .dataframe tbody tr th:only-of-type {\n",
       "        vertical-align: middle;\n",
       "    }\n",
       "\n",
       "    .dataframe tbody tr th {\n",
       "        vertical-align: top;\n",
       "    }\n",
       "\n",
       "    .dataframe thead th {\n",
       "        text-align: right;\n",
       "    }\n",
       "</style>\n",
       "<table border=\"1\" class=\"dataframe\">\n",
       "  <thead>\n",
       "    <tr style=\"text-align: right;\">\n",
       "      <th></th>\n",
       "      <th>Treatment</th>\n",
       "      <th>Time</th>\n",
       "      <th>Replicate</th>\n",
       "      <th>X59.01097</th>\n",
       "      <th>X61.017890000000001</th>\n",
       "      <th>X67.016220000000004</th>\n",
       "      <th>X74.021450000000002</th>\n",
       "      <th>X77.052040000000005</th>\n",
       "      <th>X77.052049999999994</th>\n",
       "      <th>X78.956580000000002</th>\n",
       "      <th>...</th>\n",
       "      <th>X970.31845999999996</th>\n",
       "      <th>X970.33735000000001</th>\n",
       "      <th>X972.28162999999995</th>\n",
       "      <th>X986.81443999999999</th>\n",
       "      <th>X996.20851000000005</th>\n",
       "      <th>X996.78913999999997</th>\n",
       "      <th>X996.80704000000003</th>\n",
       "      <th>X996.82538</th>\n",
       "      <th>X996.84303</th>\n",
       "      <th>X996.86003000000005</th>\n",
       "    </tr>\n",
       "  </thead>\n",
       "  <tbody>\n",
       "    <tr>\n",
       "      <th>0</th>\n",
       "      <td>EGM</td>\n",
       "      <td>0.0</td>\n",
       "      <td>0.0</td>\n",
       "      <td>2.731190</td>\n",
       "      <td>3.039996</td>\n",
       "      <td>2.498900</td>\n",
       "      <td>3.146793</td>\n",
       "      <td>2.926058</td>\n",
       "      <td>3.101473</td>\n",
       "      <td>4.249783</td>\n",
       "      <td>...</td>\n",
       "      <td>3.021206</td>\n",
       "      <td>2.995128</td>\n",
       "      <td>3.012682</td>\n",
       "      <td>3.068779</td>\n",
       "      <td>3.026200</td>\n",
       "      <td>3.681500</td>\n",
       "      <td>3.728084</td>\n",
       "      <td>3.902864</td>\n",
       "      <td>3.798414</td>\n",
       "      <td>3.779298</td>\n",
       "    </tr>\n",
       "    <tr>\n",
       "      <th>1</th>\n",
       "      <td>EGM</td>\n",
       "      <td>0.0</td>\n",
       "      <td>1.0</td>\n",
       "      <td>2.577060</td>\n",
       "      <td>2.966918</td>\n",
       "      <td>2.478636</td>\n",
       "      <td>3.080018</td>\n",
       "      <td>2.975931</td>\n",
       "      <td>3.142122</td>\n",
       "      <td>4.154512</td>\n",
       "      <td>...</td>\n",
       "      <td>3.197100</td>\n",
       "      <td>3.191962</td>\n",
       "      <td>3.090010</td>\n",
       "      <td>3.086108</td>\n",
       "      <td>2.856756</td>\n",
       "      <td>3.666367</td>\n",
       "      <td>3.817882</td>\n",
       "      <td>3.767177</td>\n",
       "      <td>3.784470</td>\n",
       "      <td>3.692333</td>\n",
       "    </tr>\n",
       "    <tr>\n",
       "      <th>2</th>\n",
       "      <td>EGM</td>\n",
       "      <td>0.0</td>\n",
       "      <td>2.0</td>\n",
       "      <td>2.567796</td>\n",
       "      <td>3.102377</td>\n",
       "      <td>2.315301</td>\n",
       "      <td>3.174088</td>\n",
       "      <td>3.080577</td>\n",
       "      <td>3.078214</td>\n",
       "      <td>3.950247</td>\n",
       "      <td>...</td>\n",
       "      <td>3.201853</td>\n",
       "      <td>3.251763</td>\n",
       "      <td>3.087607</td>\n",
       "      <td>3.325044</td>\n",
       "      <td>2.495992</td>\n",
       "      <td>3.780564</td>\n",
       "      <td>3.908326</td>\n",
       "      <td>3.861871</td>\n",
       "      <td>3.913619</td>\n",
       "      <td>3.892816</td>\n",
       "    </tr>\n",
       "    <tr>\n",
       "      <th>3</th>\n",
       "      <td>EGM</td>\n",
       "      <td>0.0</td>\n",
       "      <td>3.0</td>\n",
       "      <td>2.700993</td>\n",
       "      <td>3.041685</td>\n",
       "      <td>2.328574</td>\n",
       "      <td>3.091159</td>\n",
       "      <td>2.993070</td>\n",
       "      <td>3.046918</td>\n",
       "      <td>4.165901</td>\n",
       "      <td>...</td>\n",
       "      <td>3.056800</td>\n",
       "      <td>3.136908</td>\n",
       "      <td>3.002354</td>\n",
       "      <td>3.164014</td>\n",
       "      <td>2.818191</td>\n",
       "      <td>3.743018</td>\n",
       "      <td>3.851108</td>\n",
       "      <td>3.838991</td>\n",
       "      <td>3.750062</td>\n",
       "      <td>3.818045</td>\n",
       "    </tr>\n",
       "    <tr>\n",
       "      <th>4</th>\n",
       "      <td>EGM</td>\n",
       "      <td>0.0</td>\n",
       "      <td>4.0</td>\n",
       "      <td>2.769198</td>\n",
       "      <td>2.967684</td>\n",
       "      <td>2.802023</td>\n",
       "      <td>3.049199</td>\n",
       "      <td>3.131748</td>\n",
       "      <td>3.324679</td>\n",
       "      <td>4.004245</td>\n",
       "      <td>...</td>\n",
       "      <td>3.029694</td>\n",
       "      <td>2.993319</td>\n",
       "      <td>2.978906</td>\n",
       "      <td>3.192828</td>\n",
       "      <td>2.418012</td>\n",
       "      <td>3.710214</td>\n",
       "      <td>3.601818</td>\n",
       "      <td>3.757961</td>\n",
       "      <td>3.739917</td>\n",
       "      <td>3.710246</td>\n",
       "    </tr>\n",
       "  </tbody>\n",
       "</table>\n",
       "<p>5 rows × 1233 columns</p>\n",
       "</div>"
      ],
      "text/plain": [
       "  Treatment  Time  Replicate  X59.01097  X61.017890000000001  \\\n",
       "0       EGM   0.0        0.0   2.731190             3.039996   \n",
       "1       EGM   0.0        1.0   2.577060             2.966918   \n",
       "2       EGM   0.0        2.0   2.567796             3.102377   \n",
       "3       EGM   0.0        3.0   2.700993             3.041685   \n",
       "4       EGM   0.0        4.0   2.769198             2.967684   \n",
       "\n",
       "   X67.016220000000004  X74.021450000000002  X77.052040000000005  \\\n",
       "0             2.498900             3.146793             2.926058   \n",
       "1             2.478636             3.080018             2.975931   \n",
       "2             2.315301             3.174088             3.080577   \n",
       "3             2.328574             3.091159             2.993070   \n",
       "4             2.802023             3.049199             3.131748   \n",
       "\n",
       "   X77.052049999999994  X78.956580000000002  ...  X970.31845999999996  \\\n",
       "0             3.101473             4.249783  ...             3.021206   \n",
       "1             3.142122             4.154512  ...             3.197100   \n",
       "2             3.078214             3.950247  ...             3.201853   \n",
       "3             3.046918             4.165901  ...             3.056800   \n",
       "4             3.324679             4.004245  ...             3.029694   \n",
       "\n",
       "   X970.33735000000001  X972.28162999999995  X986.81443999999999  \\\n",
       "0             2.995128             3.012682             3.068779   \n",
       "1             3.191962             3.090010             3.086108   \n",
       "2             3.251763             3.087607             3.325044   \n",
       "3             3.136908             3.002354             3.164014   \n",
       "4             2.993319             2.978906             3.192828   \n",
       "\n",
       "   X996.20851000000005  X996.78913999999997  X996.80704000000003  X996.82538  \\\n",
       "0             3.026200             3.681500             3.728084    3.902864   \n",
       "1             2.856756             3.666367             3.817882    3.767177   \n",
       "2             2.495992             3.780564             3.908326    3.861871   \n",
       "3             2.818191             3.743018             3.851108    3.838991   \n",
       "4             2.418012             3.710214             3.601818    3.757961   \n",
       "\n",
       "   X996.84303  X996.86003000000005  \n",
       "0    3.798414             3.779298  \n",
       "1    3.784470             3.692333  \n",
       "2    3.913619             3.892816  \n",
       "3    3.750062             3.818045  \n",
       "4    3.739917             3.710246  \n",
       "\n",
       "[5 rows x 1233 columns]"
      ]
     },
     "execution_count": 3,
     "metadata": {},
     "output_type": "execute_result"
    }
   ],
   "source": [
    "# df is log10 intensity\n",
    "df = pandas.read_csv(storage_file, index_col=0)\n",
    "print(df.shape)\n",
    "df.head()"
   ]
  },
  {
   "cell_type": "code",
   "execution_count": 4,
   "id": "0b671d55",
   "metadata": {},
   "outputs": [
    {
     "name": "stdout",
     "output_type": "stream",
     "text": [
      "['X59.01097', 'X61.017890000000001', 'X67.016220000000004', 'X74.021450000000002', 'X77.052040000000005', 'X77.052049999999994', 'X78.956580000000002', 'X78.956770000000006', 'X79.955420000000004', 'X80.962869999999995']\n",
      "1230\n"
     ]
    }
   ],
   "source": [
    "peak_names = df.columns.to_list()[3:]\n",
    "print(peak_names[:10])\n",
    "print(len(peak_names))"
   ]
  },
  {
   "cell_type": "markdown",
   "id": "4265d161",
   "metadata": {},
   "source": [
    "# 2. obtain data in the appropriate form"
   ]
  },
  {
   "cell_type": "code",
   "execution_count": 5,
   "id": "df6a6209",
   "metadata": {
    "scrolled": true
   },
   "outputs": [
    {
     "name": "stdout",
     "output_type": "stream",
     "text": [
      "working with time 4 hour\n",
      "\t data size now (60, 1233)\n",
      "X92.925600000000003\n",
      "4.065751420342374 4.457734027679883 4.455718065528384 4.500816674934927\n",
      "(15,) (15,) (15,) (15,)\n",
      "0.00042246757669391977 0.0012151954178690621 0.0012151954178690621\n",
      "True\n",
      "0.3919826073375088 0.38996664518600976 0.4350652545925531\n",
      "True\n",
      "\n",
      "X97.009529999999998\n",
      "3.863376397504625 3.3741251735800377 3.5106691460369643 3.4898801214779764\n",
      "(15,) (15,) (15,) (15,)\n",
      "0.00013564226281566485 0.0006709034051003711 0.0036905851986807135\n",
      "True\n",
      "-0.4892512239245872 -0.3527072514676606 -0.3734962760266485\n",
      "True\n",
      "\n",
      "working with time 24 hour\n",
      "\t data size now (57, 1233)\n"
     ]
    }
   ],
   "source": [
    "timepoints = [4, 24]\n",
    "\n",
    "responders = {}\n",
    "responders['4up'] = []\n",
    "responders['4down'] = []\n",
    "responders['24up'] = []\n",
    "responders['24down'] = []\n",
    "\n",
    "for timepoint in timepoints:\n",
    "    print('working with time {} hour'.format(timepoint))\n",
    "    sub = df[df['Time'] == timepoint]\n",
    "    print('\\t data size now {}'.format(sub.shape))\n",
    "    \n",
    "    for peak_name in peak_names:\n",
    "        \n",
    "        reference = sub[sub['Treatment'] == 'EGM'][peak_name].values\n",
    "        ta = sub[sub['Treatment'] == '1.0'][peak_name].values\n",
    "        tb = sub[sub['Treatment'] == '10.0'][peak_name].values\n",
    "        tc = sub[sub['Treatment'] == '100.0'][peak_name].values\n",
    "        \n",
    "        # check significance\n",
    "        statistic, pvaluea = scipy.stats.mannwhitneyu(reference, ta)\n",
    "        statistic, pvalueb = scipy.stats.mannwhitneyu(reference, tb)\n",
    "        statistic, pvaluec = scipy.stats.mannwhitneyu(reference, tc)\n",
    "        \n",
    "        significance = False\n",
    "        if pvaluea < 0.05 and pvalueb < 0.05 and pvaluec < 0.05:\n",
    "            significance = True\n",
    "            \n",
    "        # check fold-change\n",
    "        fca = numpy.mean(ta) - numpy.mean(reference)\n",
    "        fcb = numpy.mean(tb) - numpy.mean(reference)\n",
    "        fcc = numpy.mean(tc) - numpy.mean(reference)\n",
    "        \n",
    "        change = False\n",
    "        if numpy.abs(fca) > numpy.log10(2) and numpy.abs(fcb) > numpy.log10(2) and numpy.abs(fcc) > numpy.log10(2):\n",
    "            \n",
    "            if fca > 0 and fcb > 0 and fcc > 0:\n",
    "                change = True\n",
    "            elif fca < 0 and fcb < 0 and fcc < 0:\n",
    "                change = True\n",
    "            else:\n",
    "                raise ValueError('this is a problem')\n",
    "                        \n",
    "#         print(peak_name)\n",
    "#         print(reference.mean(), ta.mean(), tb.mean(), tc.mean())\n",
    "#         print(reference.shape, ta.shape, tb.shape, tc.shape)\n",
    "#         print(pvaluea, pvalueb, pvaluec)\n",
    "#         print(significance)\n",
    "#         print(fca, fcb, fcc)\n",
    "#         print(change)\n",
    "#         print()\n",
    "        \n",
    "        # store findings\n",
    "        if significance == True and change == True:\n",
    "            \n",
    "            print(peak_name)\n",
    "            print(reference.mean(), ta.mean(), tb.mean(), tc.mean())\n",
    "            print(reference.shape, ta.shape, tb.shape, tc.shape)\n",
    "            print(pvaluea, pvalueb, pvaluec)\n",
    "            print(significance)\n",
    "            print(fca, fcb, fcc)\n",
    "            print(change)\n",
    "            print()\n",
    "            \n",
    "            if timepoint == 4:\n",
    "                if fca > 0 :\n",
    "                    responders['4up'].append(peak_name)\n",
    "                if fca < 0:\n",
    "                    responders['4down'].append(peak_name)\n",
    "            if timepoint == 24:\n",
    "                if fca > 0 :\n",
    "                    responders['24up'].append(peak_name)\n",
    "                if fca < 0:\n",
    "                    responders['24down'].append(peak_name)"
   ]
  },
  {
   "cell_type": "code",
   "execution_count": 6,
   "id": "0b9fe71a",
   "metadata": {},
   "outputs": [
    {
     "name": "stdout",
     "output_type": "stream",
     "text": [
      "1\n",
      "1\n",
      "0\n",
      "0\n"
     ]
    }
   ],
   "source": [
    "print(len(responders['4up']))\n",
    "print(len(responders['4down']))\n",
    "print(len(responders['24up']))\n",
    "print(len(responders['24down']))"
   ]
  },
  {
   "cell_type": "code",
   "execution_count": 7,
   "id": "70cfec58",
   "metadata": {},
   "outputs": [
    {
     "name": "stdout",
     "output_type": "stream",
     "text": [
      "['X92.925600000000003']\n",
      "['X97.009529999999998']\n",
      "[]\n",
      "[]\n"
     ]
    }
   ],
   "source": [
    "print(responders['4up'])\n",
    "print(responders['4down'])\n",
    "print(responders['24up'])\n",
    "print(responders['24down'])"
   ]
  },
  {
   "cell_type": "markdown",
   "id": "27906b54",
   "metadata": {},
   "source": [
    "# 3. make figures"
   ]
  },
  {
   "cell_type": "code",
   "execution_count": 8,
   "id": "51233c1c",
   "metadata": {},
   "outputs": [
    {
     "name": "stdout",
     "output_type": "stream",
     "text": [
      "2\n",
      "2\n"
     ]
    }
   ],
   "source": [
    "plotting_peaks = []\n",
    "\n",
    "for element in responders['4up']:\n",
    "    plotting_peaks.append(element)\n",
    "    \n",
    "for element in responders['4down']:\n",
    "    plotting_peaks.append(element)\n",
    "    \n",
    "for element in responders['24up']:\n",
    "    plotting_peaks.append(element)\n",
    "\n",
    "for element in responders['24down']:\n",
    "    plotting_peaks.append(element)\n",
    "    \n",
    "print(len(plotting_peaks))\n",
    "print(len(list(set(plotting_peaks))))"
   ]
  },
  {
   "cell_type": "code",
   "execution_count": 13,
   "id": "e4932f28",
   "metadata": {},
   "outputs": [
    {
     "name": "stdout",
     "output_type": "stream",
     "text": [
      "X92.925600000000003\n",
      "12\n"
     ]
    },
    {
     "ename": "IndexError",
     "evalue": "list index out of range",
     "output_type": "error",
     "traceback": [
      "\u001b[0;31m---------------------------------------------------------------------------\u001b[0m",
      "\u001b[0;31mIndexError\u001b[0m                                Traceback (most recent call last)",
      "\u001b[0;32m<ipython-input-13-92c84a20c148>\u001b[0m in \u001b[0;36m<module>\u001b[0;34m\u001b[0m\n\u001b[1;32m     22\u001b[0m     \u001b[0mwcolors\u001b[0m \u001b[0;34m=\u001b[0m \u001b[0;34m[\u001b[0m\u001b[0;34m'white'\u001b[0m\u001b[0;34m,\u001b[0m \u001b[0;34m'tab:green'\u001b[0m\u001b[0;34m]\u001b[0m\u001b[0;34m\u001b[0m\u001b[0;34m\u001b[0m\u001b[0m\n\u001b[1;32m     23\u001b[0m     \u001b[0;32mfor\u001b[0m \u001b[0mi\u001b[0m \u001b[0;32min\u001b[0m \u001b[0mrange\u001b[0m\u001b[0;34m(\u001b[0m\u001b[0mlen\u001b[0m\u001b[0;34m(\u001b[0m\u001b[0mg\u001b[0m\u001b[0;34m.\u001b[0m\u001b[0martists\u001b[0m\u001b[0;34m)\u001b[0m\u001b[0;34m)\u001b[0m\u001b[0;34m:\u001b[0m\u001b[0;34m\u001b[0m\u001b[0;34m\u001b[0m\u001b[0m\n\u001b[0;32m---> 24\u001b[0;31m         \u001b[0mg\u001b[0m\u001b[0;34m.\u001b[0m\u001b[0martists\u001b[0m\u001b[0;34m[\u001b[0m\u001b[0mi\u001b[0m\u001b[0;34m]\u001b[0m\u001b[0;34m.\u001b[0m\u001b[0mset_facecolor\u001b[0m\u001b[0;34m(\u001b[0m\u001b[0mwcolors\u001b[0m\u001b[0;34m[\u001b[0m\u001b[0mi\u001b[0m\u001b[0;34m]\u001b[0m\u001b[0;34m)\u001b[0m\u001b[0;34m\u001b[0m\u001b[0;34m\u001b[0m\u001b[0m\n\u001b[0m\u001b[1;32m     25\u001b[0m \u001b[0;34m\u001b[0m\u001b[0m\n\u001b[1;32m     26\u001b[0m     \u001b[0mmatplotlib\u001b[0m\u001b[0;34m.\u001b[0m\u001b[0mpyplot\u001b[0m\u001b[0;34m.\u001b[0m\u001b[0mshow\u001b[0m\u001b[0;34m(\u001b[0m\u001b[0;34m)\u001b[0m\u001b[0;34m\u001b[0m\u001b[0;34m\u001b[0m\u001b[0m\n",
      "\u001b[0;31mIndexError\u001b[0m: list index out of range"
     ]
    },
    {
     "data": {
      "image/png": "[encoded data removed]",
      "text/plain": [
       "<Figure size 648x432 with 1 Axes>"
      ]
     },
     "metadata": {
      "needs_background": "light"
     },
     "output_type": "display_data"
    }
   ],
   "source": [
    "references = [(4, 'EGM'), (24, 'EGM')]\n",
    "conditions = ['1.0', '10.0', '100.0']\n",
    "\n",
    "for plotting_peak in plotting_peaks:\n",
    "    print(plotting_peak)\n",
    "    all_boxplot_values = []\n",
    "    \n",
    "    for reference in references:\n",
    "        for condition in conditions:\n",
    "            \n",
    "            denominator_values = df[(df['Time'] == reference[0]) & (df['Treatment'] == reference[1])][plotting_peak].values\n",
    "            numerator_values = df[(df['Time'] == reference[0]) & (df['Treatment'] == condition)][plotting_peak].values\n",
    "            \n",
    "            all_boxplot_values.append(denominator_values)\n",
    "            all_boxplot_values.append(numerator_values)\n",
    "            \n",
    "    # generate figure of boxplots\n",
    "    g = seaborn.boxplot(data=all_boxplot_values)\n",
    "    h = seaborn.swarmplot(data=all_boxplot_values, color='black', alpha=1/3)\n",
    "    \n",
    "    print(len(g.artists))\n",
    "    wcolors = ['white', 'tab:green']\n",
    "    for i in range(len(g.artists)):\n",
    "        g.artists[i].set_facecolor(wcolors[i])\n",
    "        \n",
    "    matplotlib.pyplot.show()\n",
    " \n",
    "            \n",
    "            "
   ]
  },
  {
   "cell_type": "code",
   "execution_count": null,
   "id": "fcb036d8",
   "metadata": {},
   "outputs": [],
   "source": [
    "make the plot function for separately 4 and 24 hours"
   ]
  },
  {
   "cell_type": "code",
   "execution_count": null,
   "id": "4b361175",
   "metadata": {},
   "outputs": [],
   "source": [
    "g.artists"
   ]
  },
  {
   "cell_type": "code",
   "execution_count": null,
   "id": "b5efec88",
   "metadata": {},
   "outputs": [],
   "source": []
  },
  {
   "cell_type": "code",
   "execution_count": null,
   "id": "81718b0d",
   "metadata": {},
   "outputs": [],
   "source": []
  },
  {
   "cell_type": "code",
   "execution_count": null,
   "id": "6d52df0e",
   "metadata": {},
   "outputs": [],
   "source": []
  },
  {
   "cell_type": "code",
   "execution_count": null,
   "id": "95380bf7",
   "metadata": {},
   "outputs": [],
   "source": []
  },
  {
   "cell_type": "code",
   "execution_count": null,
   "id": "f200a282",
   "metadata": {},
   "outputs": [],
   "source": []
  },
  {
   "cell_type": "code",
   "execution_count": null,
   "id": "a7c538d9",
   "metadata": {},
   "outputs": [],
   "source": []
  },
  {
   "cell_type": "code",
   "execution_count": null,
   "id": "b65b47d9",
   "metadata": {},
   "outputs": [],
   "source": []
  }
 ],
 "metadata": {
  "kernelspec": {
   "display_name": "Python 3",
   "language": "python",
   "name": "python3"
  },
  "language_info": {
   "codemirror_mode": {
    "name": "ipython",
    "version": 3
   },
   "file_extension": ".py",
   "mimetype": "text/x-python",
   "name": "python",
   "nbconvert_exporter": "python",
   "pygments_lexer": "ipython3",
   "version": "3.7.11"
  }
 },
 "nbformat": 4,
 "nbformat_minor": 5
}
