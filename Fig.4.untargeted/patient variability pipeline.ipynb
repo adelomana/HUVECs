{
 "cells": [
  {
   "cell_type": "markdown",
   "id": "c8818006",
   "metadata": {},
   "source": [
    "# 0. user-defined variables"
   ]
  },
  {
   "cell_type": "code",
   "execution_count": null,
   "id": "069395a6",
   "metadata": {},
   "outputs": [],
   "source": [
    "# info\n",
    "This script takes "
   ]
  },
  {
   "cell_type": "code",
   "execution_count": null,
   "id": "7d1b174d",
   "metadata": {},
   "outputs": [],
   "source": [
    "# info\n",
    "\n",
    "This script takes raw XCMS file as input.\n",
    "\n",
    "The tasks are:\n",
    "- cell number correction.\n",
    "- quantile normalization across all samples.\n",
    "- quantile normalization across patient vari\n",
    "- dose-response inference based on patient-specific fold-changes.\n",
    "    \n",
    "Then the output should be a list of m/z features for manual annotation."
   ]
  },
  {
   "cell_type": "code",
   "execution_count": null,
   "id": "b7be5fd8",
   "metadata": {},
   "outputs": [],
   "source": []
  },
  {
   "cell_type": "code",
   "execution_count": null,
   "id": "46e408be",
   "metadata": {},
   "outputs": [],
   "source": []
  },
  {
   "cell_type": "code",
   "execution_count": null,
   "id": "5403f0fd",
   "metadata": {},
   "outputs": [],
   "source": []
  }
 ],
 "metadata": {
  "kernelspec": {
   "display_name": "Python 3",
   "language": "python",
   "name": "python3"
  },
  "language_info": {
   "codemirror_mode": {
    "name": "ipython",
    "version": 3
   },
   "file_extension": ".py",
   "mimetype": "text/x-python",
   "name": "python",
   "nbconvert_exporter": "python",
   "pygments_lexer": "ipython3",
   "version": "3.7.11"
  }
 },
 "nbformat": 4,
 "nbformat_minor": 5
}
