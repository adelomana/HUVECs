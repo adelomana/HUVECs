{
 "cells": [
  {
   "cell_type": "code",
   "execution_count": 1,
   "metadata": {},
   "outputs": [],
   "source": [
    "import pandas, numpy\n",
    "\n",
    "import scipy, scipy.stats\n",
    "\n",
    "import matplotlib, matplotlib.pyplot\n",
    "matplotlib.rcParams.update({'font.size':20, 'font.family':'FreeSans', 'xtick.labelsize':20, 'ytick.labelsize':20})"
   ]
  },
  {
   "cell_type": "markdown",
   "metadata": {},
   "source": [
    "# 0. user-defined variables"
   ]
  },
  {
   "cell_type": "code",
   "execution_count": 2,
   "metadata": {},
   "outputs": [],
   "source": [
    "data_file ='/home/adrian/projects/HUVECs/data/csv/HUVEC_AllMeasurements_Summary_21.12.2020.15NROSA.csv'"
   ]
  },
  {
   "cell_type": "markdown",
   "metadata": {},
   "source": [
    "# 1. read data"
   ]
  },
  {
   "cell_type": "code",
   "execution_count": 3,
   "metadata": {
    "scrolled": false
   },
   "outputs": [
    {
     "data": {
      "text/html": [
       "<div>\n",
       "<style scoped>\n",
       "    .dataframe tbody tr th:only-of-type {\n",
       "        vertical-align: middle;\n",
       "    }\n",
       "\n",
       "    .dataframe tbody tr th {\n",
       "        vertical-align: top;\n",
       "    }\n",
       "\n",
       "    .dataframe thead th {\n",
       "        text-align: right;\n",
       "    }\n",
       "</style>\n",
       "<table border=\"1\" class=\"dataframe\">\n",
       "  <thead>\n",
       "    <tr style=\"text-align: right;\">\n",
       "      <th></th>\n",
       "      <th>Sample ID(MS)</th>\n",
       "      <th>Sample ID Rosa</th>\n",
       "      <th>Experiment</th>\n",
       "      <th>13label</th>\n",
       "      <th>Treatment</th>\n",
       "      <th>Timepoint (h)</th>\n",
       "      <th>Cell numbers</th>\n",
       "      <th>Aspartate</th>\n",
       "      <th>Glutamate</th>\n",
       "      <th>Glutamine</th>\n",
       "      <th>GSH</th>\n",
       "      <th>UDP-nAcGln</th>\n",
       "    </tr>\n",
       "  </thead>\n",
       "  <tbody>\n",
       "    <tr>\n",
       "      <th>0</th>\n",
       "      <td>142</td>\n",
       "      <td>0h, egm</td>\n",
       "      <td>1</td>\n",
       "      <td>label</td>\n",
       "      <td>0.0</td>\n",
       "      <td>0</td>\n",
       "      <td>830000</td>\n",
       "      <td>0.0000</td>\n",
       "      <td>0.0</td>\n",
       "      <td>0.0</td>\n",
       "      <td>0.0</td>\n",
       "      <td>0.0</td>\n",
       "    </tr>\n",
       "    <tr>\n",
       "      <th>1</th>\n",
       "      <td>143</td>\n",
       "      <td>0h, egm</td>\n",
       "      <td>1</td>\n",
       "      <td>1uM, label</td>\n",
       "      <td>0.5</td>\n",
       "      <td>0</td>\n",
       "      <td>830000</td>\n",
       "      <td>0.0000</td>\n",
       "      <td>0.0</td>\n",
       "      <td>0.0</td>\n",
       "      <td>0.0</td>\n",
       "      <td>0.0</td>\n",
       "    </tr>\n",
       "    <tr>\n",
       "      <th>2</th>\n",
       "      <td>144</td>\n",
       "      <td>0h, egm</td>\n",
       "      <td>1</td>\n",
       "      <td>10uM, label</td>\n",
       "      <td>5.0</td>\n",
       "      <td>0</td>\n",
       "      <td>830000</td>\n",
       "      <td>0.0921</td>\n",
       "      <td>0.0</td>\n",
       "      <td>0.0</td>\n",
       "      <td>0.0</td>\n",
       "      <td>0.0</td>\n",
       "    </tr>\n",
       "    <tr>\n",
       "      <th>3</th>\n",
       "      <td>145</td>\n",
       "      <td>4h, egm</td>\n",
       "      <td>1</td>\n",
       "      <td>egm</td>\n",
       "      <td>0.0</td>\n",
       "      <td>4</td>\n",
       "      <td>1500000</td>\n",
       "      <td>0.0000</td>\n",
       "      <td>0.0</td>\n",
       "      <td>0.0</td>\n",
       "      <td>0.0</td>\n",
       "      <td>0.0</td>\n",
       "    </tr>\n",
       "    <tr>\n",
       "      <th>4</th>\n",
       "      <td>146</td>\n",
       "      <td>4h, egm</td>\n",
       "      <td>1</td>\n",
       "      <td>egm</td>\n",
       "      <td>0.0</td>\n",
       "      <td>4</td>\n",
       "      <td>1500000</td>\n",
       "      <td>0.0074</td>\n",
       "      <td>0.0</td>\n",
       "      <td>0.0</td>\n",
       "      <td>0.0</td>\n",
       "      <td>0.0</td>\n",
       "    </tr>\n",
       "  </tbody>\n",
       "</table>\n",
       "</div>"
      ],
      "text/plain": [
       "   Sample ID(MS) Sample ID Rosa  Experiment      13label  Treatment  \\\n",
       "0            142        0h, egm           1        label        0.0   \n",
       "1            143        0h, egm           1   1uM, label        0.5   \n",
       "2            144        0h, egm           1  10uM, label        5.0   \n",
       "3            145        4h, egm           1          egm        0.0   \n",
       "4            146        4h, egm           1          egm        0.0   \n",
       "\n",
       "   Timepoint (h)  Cell numbers  Aspartate  Glutamate  Glutamine  GSH  \\\n",
       "0              0        830000     0.0000        0.0        0.0  0.0   \n",
       "1              0        830000     0.0000        0.0        0.0  0.0   \n",
       "2              0        830000     0.0921        0.0        0.0  0.0   \n",
       "3              4       1500000     0.0000        0.0        0.0  0.0   \n",
       "4              4       1500000     0.0074        0.0        0.0  0.0   \n",
       "\n",
       "   UDP-nAcGln  \n",
       "0         0.0  \n",
       "1         0.0  \n",
       "2         0.0  \n",
       "3         0.0  \n",
       "4         0.0  "
      ]
     },
     "execution_count": 3,
     "metadata": {},
     "output_type": "execute_result"
    }
   ],
   "source": [
    "df = pandas.read_csv(data_file)\n",
    "df.astype('float', errors='ignore')\n",
    "df.head()"
   ]
  },
  {
   "cell_type": "markdown",
   "metadata": {},
   "source": [
    "# 2. format data"
   ]
  },
  {
   "cell_type": "markdown",
   "metadata": {},
   "source": [
    "## 2.1. select appropriate rows"
   ]
  },
  {
   "cell_type": "code",
   "execution_count": 7,
   "metadata": {},
   "outputs": [],
   "source": [
    "# removing egm of T4 and T24 because they are very close to zero\n",
    "df = df[~((df['13label'] == 'egm') & (df['Timepoint (h)'] == 4))] \n",
    "df = df[~((df['13label'] == 'egm') & (df['Timepoint (h)'] == 24))] "
   ]
  },
  {
   "cell_type": "code",
   "execution_count": 8,
   "metadata": {
    "scrolled": false
   },
   "outputs": [
    {
     "name": "stdout",
     "output_type": "stream",
     "text": [
      "    Sample ID(MS) Sample ID Rosa  Experiment      13label  Treatment  \\\n",
      "0             142        0h, egm           1        label        0.0   \n",
      "1             143        0h, egm           1   1uM, label        0.5   \n",
      "2             144        0h, egm           1  10uM, label        5.0   \n",
      "6             148    15N-4h, 0µM           1     15N, 0µM        0.0   \n",
      "7             149    15N-4h, 0µM           1     15N, 0µM        0.0   \n",
      "8             150    15N-4h, 0µM           1     15N, 0µM        0.0   \n",
      "9             151    15N-4h, 1µM           1     15N, 1µM        0.5   \n",
      "10            152    15N-4h, 1µM           1     15N, 1µM        0.5   \n",
      "11            153    15N-4h, 1µM           1     15N, 1µM        0.5   \n",
      "12            154   15N-4h, 10µM           1    15N, 10µM        5.0   \n",
      "13            155   15N-4h, 10µM           1    15N, 10µM        5.0   \n",
      "14            156   15N-4h, 10µM           1    15N, 10µM        5.0   \n",
      "18            160   15N-24h, 0µM           1     15N, 0µM        0.0   \n",
      "19            161   15N-24h, 0µM           1     15N, 0µM        0.0   \n",
      "20            162   15N-24h, 0µM           1     15N, 0µM        0.0   \n",
      "21            163   15N-24h, 1µM           1     15N, 1µM        0.5   \n",
      "22            164   15N-24h, 1µM           1     15N, 1µM        0.5   \n",
      "23            165   15N-24h, 1µM           1     15N, 1µM        0.5   \n",
      "24            166  15N-24h, 10µM           1    15N, 10µM        5.0   \n",
      "25            167  15N-24h, 10µM           1    15N, 10µM        5.0   \n",
      "26            168  15N-24h, 10µM           1    15N, 10µM        5.0   \n",
      "\n",
      "    Timepoint (h)  Cell numbers  Aspartate  Glutamate  Glutamine     GSH  \\\n",
      "0               0        830000     0.0000     0.0000     0.0000  0.0000   \n",
      "1               0        830000     0.0000     0.0000     0.0000  0.0000   \n",
      "2               0        830000     0.0921     0.0000     0.0000  0.0000   \n",
      "6               4       1200000     0.1919     0.1392     0.5311  0.0003   \n",
      "7               4       1200000     0.1335     0.1496     0.5266  0.0123   \n",
      "8               4       1200000     0.1521     0.1399     0.5267  0.0008   \n",
      "9               4       1120000     0.1330     0.1272     0.5202  0.0026   \n",
      "10              4       1120000     0.1223     0.1285     0.5197  0.0009   \n",
      "11              4       1120000     0.1397     0.1325     0.5315  0.0033   \n",
      "12              4        960000     0.1332     0.1284     0.4887  0.0069   \n",
      "13              4        960000     0.1414     0.1033     0.4897  0.0016   \n",
      "14              4        960000     0.1537     0.1075     0.4989  0.0000   \n",
      "18             24        386000     0.2406     0.2018     0.5358  0.0476   \n",
      "19             24        386000     0.2895     0.1846     0.5113  0.0443   \n",
      "20             24        386000     0.3089     0.1886     0.5331  0.0492   \n",
      "21             24        840000     0.2716     0.1887     0.5178  0.0435   \n",
      "22             24        840000     0.2411     0.1984     0.5466  0.0479   \n",
      "23             24        840000     0.3719     0.1828     0.5279  0.0429   \n",
      "24             24       1290000     0.2005     0.1813     0.4973  0.0466   \n",
      "25             24       1290000     0.2365     0.1850     0.5016  0.0380   \n",
      "26             24       1290000     0.1667     0.1783     0.4923  0.0398   \n",
      "\n",
      "    UDP-nAcGln  \n",
      "0       0.0000  \n",
      "1       0.0000  \n",
      "2       0.0000  \n",
      "6       0.1578  \n",
      "7       0.1193  \n",
      "8       0.1404  \n",
      "9       0.1367  \n",
      "10      0.1222  \n",
      "11      0.1423  \n",
      "12      0.1295  \n",
      "13      0.1298  \n",
      "14      0.1216  \n",
      "18      0.2697  \n",
      "19      0.2734  \n",
      "20      0.2733  \n",
      "21      0.2806  \n",
      "22      0.2800  \n",
      "23      0.2786  \n",
      "24      0.2364  \n",
      "25      0.2943  \n",
      "26      0.3056  \n"
     ]
    }
   ],
   "source": [
    "pandas.set_option(\"display.max_rows\", 200, \"display.max_columns\", 20)\n",
    "print(df)"
   ]
  },
  {
   "cell_type": "markdown",
   "metadata": {},
   "source": [
    "# 3. plot"
   ]
  },
  {
   "cell_type": "code",
   "execution_count": 9,
   "metadata": {
    "scrolled": false
   },
   "outputs": [
    {
     "name": "stdout",
     "output_type": "stream",
     "text": [
      "Aspartate\n",
      "6 significant 0.2796666666666667 0.20123333333333335 0.04042779918502612\n"
     ]
    },
    {
     "data": {
      "image/png": "[encoded data removed]",
      "text/plain": [
       "<Figure size 432x288 with 1 Axes>"
      ]
     },
     "metadata": {
      "needs_background": "light"
     },
     "output_type": "display_data"
    },
    {
     "name": "stdout",
     "output_type": "stream",
     "text": [
      "Glutamate\n",
      "2 significant 0.1429 0.12940000000000002 0.04042779918502612\n",
      "3 significant 0.1429 0.11306666666666666 0.04042779918502612\n"
     ]
    },
    {
     "data": {
      "image/png": "[encoded data removed]",
      "text/plain": [
       "<Figure size 432x288 with 1 Axes>"
      ]
     },
     "metadata": {
      "needs_background": "light"
     },
     "output_type": "display_data"
    },
    {
     "name": "stdout",
     "output_type": "stream",
     "text": [
      "Glutamine\n",
      "3 significant 0.5281333333333333 0.49243333333333333 0.04042779918502612\n",
      "6 significant 0.5267333333333334 0.4970666666666667 0.04042779918502612\n"
     ]
    },
    {
     "data": {
      "image/png": "[encoded data removed]",
      "text/plain": [
       "<Figure size 432x288 with 1 Axes>"
      ]
     },
     "metadata": {
      "needs_background": "light"
     },
     "output_type": "display_data"
    },
    {
     "name": "stdout",
     "output_type": "stream",
     "text": [
      "GSH\n"
     ]
    },
    {
     "data": {
      "image/png": "[encoded data removed]",
      "text/plain": [
       "<Figure size 432x288 with 1 Axes>"
      ]
     },
     "metadata": {
      "needs_background": "light"
     },
     "output_type": "display_data"
    },
    {
     "name": "stdout",
     "output_type": "stream",
     "text": [
      "UDP-nAcGln\n",
      "5 significant 0.2721333333333333 0.27973333333333333 0.04042779918502612\n"
     ]
    },
    {
     "data": {
      "image/png": "[encoded data removed]",
      "text/plain": [
       "<Figure size 432x288 with 1 Axes>"
      ]
     },
     "metadata": {
      "needs_background": "light"
     },
     "output_type": "display_data"
    }
   ],
   "source": [
    "for metab in df.columns[7:]:\n",
    "    \n",
    "    print(metab)\n",
    "    \n",
    "    loc_zero_zero = df[(df['Treatment'] == 0) & (df['Timepoint (h)'] == 0)][metab].values\n",
    "    \n",
    "    loc_four_zero = df[(df['Treatment'] == 0) & (df['Timepoint (h)'] == 4)][metab].values\n",
    "    loc_four_half = df[(df['Treatment'] == 0.5) & (df['Timepoint (h)'] == 4)][metab].values\n",
    "    loc_four_five = df[(df['Treatment'] == 5) & (df['Timepoint (h)'] == 4)][metab].values\n",
    "\n",
    "    loc_twentyfour_zero = df[(df['Treatment'] == 0) & (df['Timepoint (h)'] == 24)][metab].values\n",
    "    loc_twentyfour_half = df[(df['Treatment'] == 0.5) & (df['Timepoint (h)'] == 24)][metab].values\n",
    "    loc_twentyfour_five = df[(df['Treatment'] == 5) & (df['Timepoint (h)'] == 24)][metab].values\n",
    "    \n",
    "    quant = [loc_zero_zero, loc_four_zero, loc_four_half, loc_four_five, loc_twentyfour_zero, loc_twentyfour_half, loc_twentyfour_five]\n",
    "        \n",
    "    ###\n",
    "    ### boxplots\n",
    "    ###\n",
    "    \n",
    "    f = matplotlib.pyplot.figure()\n",
    "    ax = f.add_subplot(111)\n",
    "    \n",
    "    filtered = [element[~numpy.isnan(element)] for element in quant]\n",
    "        \n",
    "    matplotlib.pyplot.boxplot(filtered, showcaps=False, medianprops=dict(linewidth=2, color='black'), boxprops=dict(linewidth=2, color='gray'), whiskerprops=dict(linewidth=2, color='gray'))\n",
    "    \n",
    "    ###\n",
    "    ### scatter plots\n",
    "    ###\n",
    "    \n",
    "    x=[]; y=[]\n",
    "    for i in range(len(quant)):\n",
    "        for j in range(len(quant[i])):\n",
    "            \n",
    "            shift = 0.25\n",
    "            r=-shift/2 + shift*numpy.random.random()\n",
    "            x.append(i+1+r)\n",
    "            \n",
    "            y.append(quant[i][j])\n",
    "            \n",
    "    matplotlib.pyplot.scatter(x, y, s=80, c='black', alpha=1/3, linewidths=0)\n",
    "    \n",
    "    ###\n",
    "    ### statistics\n",
    "    ###\n",
    "    \n",
    "    for pos in [2, 3]:\n",
    "        stat, pvalue = scipy.stats.mannwhitneyu(filtered[1], filtered[pos])\n",
    "        if 0.01 < pvalue < 0.05:\n",
    "            print(pos, 'significant', numpy.mean(filtered[1]), numpy.mean(filtered[pos]), pvalue)\n",
    "            matplotlib.pyplot.text(pos/5.75, 0.85, '*', transform=ax.transAxes, horizontalalignment='center', verticalalignment='center', fontsize=40)\n",
    "        if pvalue < 0.01:\n",
    "            print(pos, 'very significant', numpy.mean(filtered[1]), numpy.mean(filtered[pos]), pvalue)\n",
    "            matplotlib.pyplot.text(pos/5.5, 0.85, '**', transform=ax.transAxes, horizontalalignment='center', verticalalignment='center', fontsize=40)\n",
    "            \n",
    "    for pos in [5, 6]:\n",
    "        stat, pvalue = scipy.stats.mannwhitneyu(filtered[4], filtered[pos])\n",
    "        if 0.01 < pvalue < 0.05:\n",
    "            print(pos, 'significant', numpy.mean(filtered[4]), numpy.mean(filtered[pos]), pvalue)\n",
    "            matplotlib.pyplot.text(pos/6.5, 0.85, '*', transform=ax.transAxes, horizontalalignment='center', verticalalignment='center', fontsize=40)\n",
    "        if pvalue < 0.01:\n",
    "            print(pos, 'very significant', numpy.mean(filtered[5]), numpy.mean(filtered[pos]), pvalue)\n",
    "            matplotlib.pyplot.text(pos/6, 0.85, '**', transform=ax.transAxes, horizontalalignment='center', verticalalignment='center', fontsize=40)\n",
    "            \n",
    "    ###\n",
    "    ### close figure\n",
    "    ###\n",
    "    \n",
    "    matplotlib.pyplot.axvline(1.5, alpha=0.5, lw=2, color='black', ls=':')\n",
    "    matplotlib.pyplot.axvline(4.5, alpha=0.5, lw=2, color='black', ls=':')\n",
    "    \n",
    "    matplotlib.pyplot.text(0.055, 0.05, 'T=0', transform=ax.transAxes, horizontalalignment='center', verticalalignment='center')\n",
    "    matplotlib.pyplot.text(0.35, 0.05, 'T=4', transform=ax.transAxes, horizontalalignment='center', verticalalignment='center')\n",
    "    matplotlib.pyplot.text(0.8, 0.05, 'T=24', transform=ax.transAxes, horizontalalignment='center', verticalalignment='center')\n",
    "    \n",
    "    matplotlib.pyplot.xlabel('Treatment (uM)')\n",
    "    matplotlib.pyplot.ylabel('Ratio')\n",
    "    matplotlib.pyplot.xticks([1, 2, 3, 4, 5, 6, 7], ['0', '0', '0.5', '5', '0', '0.5', '5'])\n",
    "    matplotlib.pyplot.title(metab)\n",
    "    matplotlib.pyplot.tight_layout()\n",
    "    matplotlib.pyplot.show()"
   ]
  },
  {
   "cell_type": "code",
   "execution_count": null,
   "metadata": {},
   "outputs": [],
   "source": []
  }
 ],
 "metadata": {
  "kernelspec": {
   "display_name": "Python 3",
   "language": "python",
   "name": "python3"
  },
  "language_info": {
   "codemirror_mode": {
    "name": "ipython",
    "version": 3
   },
   "file_extension": ".py",
   "mimetype": "text/x-python",
   "name": "python",
   "nbconvert_exporter": "python",
   "pygments_lexer": "ipython3",
   "version": "3.7.9"
  }
 },
 "nbformat": 4,
 "nbformat_minor": 4
}
