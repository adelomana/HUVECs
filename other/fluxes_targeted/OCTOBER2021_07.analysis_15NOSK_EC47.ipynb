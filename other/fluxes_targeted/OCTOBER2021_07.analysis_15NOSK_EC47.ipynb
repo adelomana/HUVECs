{
 "cells": [
  {
   "cell_type": "code",
   "execution_count": 1,
   "metadata": {},
   "outputs": [],
   "source": [
    "import pandas, numpy\n",
    "\n",
    "import scipy, scipy.stats\n",
    "\n",
    "import matplotlib, matplotlib.pyplot\n",
    "matplotlib.rcParams.update({'font.size':20, 'font.family':'FreeSans', 'xtick.labelsize':20, 'ytick.labelsize':20, 'figure.figsize':(12, 8)})"
   ]
  },
  {
   "cell_type": "markdown",
   "metadata": {},
   "source": [
    "# 0. user-defined variables"
   ]
  },
  {
   "cell_type": "code",
   "execution_count": 2,
   "metadata": {},
   "outputs": [],
   "source": [
    "data_file ='/home/adrian/gd15/hi/research/huvec/data/fluxes_targeted/csv/15NOSK_EC47.csv'"
   ]
  },
  {
   "cell_type": "markdown",
   "metadata": {},
   "source": [
    "# 1. read data"
   ]
  },
  {
   "cell_type": "code",
   "execution_count": 3,
   "metadata": {
    "scrolled": false
   },
   "outputs": [
    {
     "data": {
      "text/plain": [
       "Sample ID           object\n",
       "Sample ID Rosa      object\n",
       "Experiment          object\n",
       "13label             object\n",
       "Treatment          float64\n",
       "Timepoint (h)        int64\n",
       "Cell numbers       float64\n",
       "Glutamine          float64\n",
       "UDP Glucose        float64\n",
       "UDP-nAcGLn         float64\n",
       "Glutamate          float64\n",
       "Aspartate          float64\n",
       "Proline            float64\n",
       "Glutathion Ox+H    float64\n",
       "Glutathion RED     float64\n",
       "dtype: object"
      ]
     },
     "execution_count": 3,
     "metadata": {},
     "output_type": "execute_result"
    }
   ],
   "source": [
    "df = pandas.read_csv(data_file)\n",
    "df.head()\n",
    "df.dtypes"
   ]
  },
  {
   "cell_type": "code",
   "execution_count": 4,
   "metadata": {
    "scrolled": false
   },
   "outputs": [
    {
     "name": "stdout",
     "output_type": "stream",
     "text": [
      "                  Sample ID           Sample ID Rosa Experiment  \\\n",
      "0        EC047Cells-EGM-6-1       EC047Cells-EGM-6-1       EC47   \n",
      "1        EC047Cells-EGM-6-2       EC047Cells-EGM-6-2       EC47   \n",
      "2        EC047Cells-EGM-6-3       EC047Cells-EGM-6-3       EC47   \n",
      "3      EC047Cells-F-15N-6-1     EC047Cells-F-15N-6-1       EC47   \n",
      "4      EC047Cells-F-15N-6-2     EC047Cells-F-15N-6-2       EC47   \n",
      "5      EC047Cells-F-15N-6-3     EC047Cells-F-15N-6-3       EC47   \n",
      "6    EC047Cells-G-0.5uM-6-1   EC047Cells-G-0.5uM-6-1       EC47   \n",
      "7    EC047Cells-G-0.5uM-6-2   EC047Cells-G-0.5uM-6-2       EC47   \n",
      "8    EC047Cells-G-0.5uM-6-3   EC047Cells-G-0.5uM-6-3       EC47   \n",
      "9      EC047Cells-H-5uM-6-1     EC047Cells-H-5uM-6-1       EC47   \n",
      "10     EC047Cells-H-5uM-6-2     EC047Cells-H-5uM-6-2       EC47   \n",
      "11     EC047Cells-H-5uM-6-3     EC047Cells-H-5uM-6-3       EC47   \n",
      "12      EC047Cells-EGM-24-1      EC047Cells-EGM-24-1       EC47   \n",
      "13      EC047Cells-EGM-24-2      EC047Cells-EGM-24-2       EC47   \n",
      "14      EC047Cells-EGM-24-3      EC047Cells-EGM-24-3       EC47   \n",
      "15    EC047Cells-F-15N-24-1    EC047Cells-F-15N-24-1       EC47   \n",
      "16    EC047Cells-F-15N-24-2    EC047Cells-F-15N-24-2       EC47   \n",
      "17    EC047Cells-F-15N-24-3    EC047Cells-F-15N-24-3       EC47   \n",
      "18  EC047Cells-G-0.5uM-24-1  EC047Cells-G-0.5uM-24-1       EC47   \n",
      "19  EC047Cells-G-0.5uM-24-2  EC047Cells-G-0.5uM-24-2       EC47   \n",
      "20  EC047Cells-G-0.5uM-24-3  EC047Cells-G-0.5uM-24-3       EC47   \n",
      "21    EC047Cells-H-5uM-24-1    EC047Cells-H-5uM-24-1       EC47   \n",
      "22    EC047Cells-H-5uM-24-2    EC047Cells-H-5uM-24-2       EC47   \n",
      "23    EC047Cells-H-5uM-24-3    EC047Cells-H-5uM-24-3       EC47   \n",
      "\n",
      "           13label  Treatment  Timepoint (h)  Cell numbers  Glutamine  \\\n",
      "0              egm        0.0              4           NaN     0.0000   \n",
      "1              egm        0.0              4           NaN     0.0000   \n",
      "2              egm        0.0              4           NaN     0.0000   \n",
      "3   15N2 glutamine        0.0              4           NaN     0.5865   \n",
      "4   15N2 glutamine        0.0              4           NaN     0.5814   \n",
      "5   15N2 glutamine        0.0              4           NaN     0.5829   \n",
      "6   15N2 glutamine        0.5              4           NaN     0.6054   \n",
      "7   15N2 glutamine        0.5              4           NaN     0.5972   \n",
      "8   15N2 glutamine        0.5              4           NaN     0.6028   \n",
      "9   15N2 glutamine        5.0              4           NaN     0.5871   \n",
      "10  15N2 glutamine        5.0              4           NaN     0.5868   \n",
      "11  15N2 glutamine        5.0              4           NaN     0.5810   \n",
      "12             egm        0.0             24           NaN     0.0001   \n",
      "13             egm        0.0             24           NaN     0.0008   \n",
      "14             egm        0.0             24           NaN     0.0000   \n",
      "15  15N2 glutamine        0.0             24           NaN     0.5903   \n",
      "16  15N2 glutamine        0.0             24           NaN     0.5876   \n",
      "17  15N2 glutamine        0.0             24           NaN     0.5847   \n",
      "18  15N2 glutamine        0.5             24           NaN     0.6058   \n",
      "19  15N2 glutamine        0.5             24           NaN     0.6084   \n",
      "20  15N2 glutamine        0.5             24           NaN     0.6042   \n",
      "21  15N2 glutamine        5.0             24           NaN     0.5831   \n",
      "22  15N2 glutamine        5.0             24           NaN     0.5820   \n",
      "23  15N2 glutamine        5.0             24           NaN     0.5840   \n",
      "\n",
      "    UDP Glucose  UDP-nAcGLn  Glutamate  Aspartate  Proline  Glutathion Ox+H  \\\n",
      "0        0.0899      0.0000     0.0000     0.0000   0.0000           0.0000   \n",
      "1        0.0632      0.0000     0.0000     0.0000   0.0000           0.0000   \n",
      "2        0.0158      0.0000     0.0018     0.0000   0.0000           0.0000   \n",
      "3        0.0395      0.1077     0.2034     0.1864   0.1604           0.0363   \n",
      "4        0.1262      0.1464     0.1812     0.1809   0.1918           0.0364   \n",
      "5        0.3864      0.1093     0.1788     0.2112   0.1853           0.0378   \n",
      "6        0.0559      0.0611     0.2190     0.1924   0.1356           0.0381   \n",
      "7        0.2832      0.1497     0.2194     0.2280   0.1991           0.0443   \n",
      "8        0.2394      0.0752     0.1732     0.1876   0.1823           0.0405   \n",
      "9        0.0008      0.1353     0.2053     0.1913   0.1881           0.0365   \n",
      "10       0.3655      0.0899     0.2066     0.1823   0.1916           0.0391   \n",
      "11       0.2561      0.1111     0.1811     0.1988   0.1735           0.0393   \n",
      "12       0.0000      0.0000     0.0000     0.0000   0.0000           0.0000   \n",
      "13       0.3375      0.0000     0.0000     0.0000   0.0000           0.0000   \n",
      "14       0.1280      0.0000     0.0000     0.0008   0.0000           0.0000   \n",
      "15       0.2771      0.3138     0.2218     0.2291   0.1958           0.0755   \n",
      "16       0.2289      0.2478     0.1966     0.2176   0.2024           0.0729   \n",
      "17       0.3565      0.2482     0.2202     0.1782   0.1855           0.0743   \n",
      "18       0.2090      0.2029     0.2110     0.2212   0.2321           0.0794   \n",
      "19       0.3227      0.3280     0.2152     0.2055   0.2219           0.0773   \n",
      "20       0.2752      0.2692     0.2493     0.2138   0.2675           0.0768   \n",
      "21       0.1071      0.2655     0.2158     0.2124   0.2020           0.0731   \n",
      "22       0.3748      0.3107     0.2023     0.2055   0.2046           0.0732   \n",
      "23       0.4592      0.2948     0.2108     0.2212   0.2024           0.0715   \n",
      "\n",
      "    Glutathion RED  \n",
      "0           0.0000  \n",
      "1           0.0000  \n",
      "2           0.0000  \n",
      "3           0.0372  \n",
      "4           0.0368  \n",
      "5           0.0361  \n",
      "6           0.0401  \n",
      "7           0.0415  \n",
      "8           0.0360  \n",
      "9           0.0369  \n",
      "10          0.0383  \n",
      "11          0.0389  \n",
      "12          0.0000  \n",
      "13          0.0000  \n",
      "14          0.0000  \n",
      "15          0.0682  \n",
      "16          0.0626  \n",
      "17          0.0641  \n",
      "18          0.0612  \n",
      "19          0.0680  \n",
      "20          0.0640  \n",
      "21          0.0641  \n",
      "22          0.0654  \n",
      "23          0.0640  \n"
     ]
    }
   ],
   "source": [
    "pandas.set_option(\"display.max_rows\", 200, \"display.max_columns\", 20)\n",
    "print(df)"
   ]
  },
  {
   "cell_type": "markdown",
   "metadata": {},
   "source": [
    "# 3. plot"
   ]
  },
  {
   "cell_type": "code",
   "execution_count": 5,
   "metadata": {},
   "outputs": [
    {
     "data": {
      "text/plain": [
       "0     0.0000\n",
       "1     0.0000\n",
       "2     0.0000\n",
       "3     0.5865\n",
       "4     0.5814\n",
       "5     0.5829\n",
       "6     0.6054\n",
       "7     0.5972\n",
       "8     0.6028\n",
       "9     0.5871\n",
       "10    0.5868\n",
       "11    0.5810\n",
       "12    0.0001\n",
       "13    0.0008\n",
       "14    0.0000\n",
       "15    0.5903\n",
       "16    0.5876\n",
       "17    0.5847\n",
       "18    0.6058\n",
       "19    0.6084\n",
       "20    0.6042\n",
       "21    0.5831\n",
       "22    0.5820\n",
       "23    0.5840\n",
       "Name: Glutamine, dtype: float64"
      ]
     },
     "execution_count": 5,
     "metadata": {},
     "output_type": "execute_result"
    }
   ],
   "source": [
    "df.loc[:, 'Glutamine']"
   ]
  },
  {
   "cell_type": "code",
   "execution_count": null,
   "metadata": {
    "scrolled": false
   },
   "outputs": [
    {
     "name": "stdout",
     "output_type": "stream",
     "text": [
      "Glutamine\n",
      "correlations\n",
      "[1, 1, 1, 2, 2, 2, 3, 3, 3]\n",
      "[0.5865, 0.5814, 0.5829, 0.6054, 0.5972, 0.6028, 0.5871, 0.5868, 0.581]\n",
      "Spearman 0.15811388300841894 0.6845283355605285\n",
      "Pearson 0.06376851810657766 0.8705312545326772\n",
      "linear regression 0.06376851810657765 0.8705312545326778\n",
      "\n",
      "[1, 1, 1, 2, 2, 2, 3, 3, 3]\n",
      "[0.5903, 0.5876, 0.5847, 0.6058, 0.6084, 0.6042, 0.5831, 0.582, 0.584]\n",
      "Spearman -0.47434164902525694 0.19702207215775042\n",
      "Pearson -0.18106538460575305 0.6410660887201484\n",
      "linear regression -0.18106538460575303 0.6410660887201485\n",
      "boxplots\n",
      "[0.5865 0.5814 0.5829] [0.6054 0.5972 0.6028]\n",
      "[0.5865 0.5814 0.5829] [0.6054 0.5972 0.6028] 0.0 0.1\n",
      "[0.5865 0.5814 0.5829] [0.5871 0.5868 0.581 ]\n",
      "[0.5865 0.5814 0.5829] [0.5871 0.5868 0.581 ] 3.0 0.7\n",
      "[0.5903 0.5876 0.5847] [0.6058 0.6084 0.6042] 0.0 0.1\n",
      "[0.5903 0.5876 0.5847] [0.5831 0.582  0.584 ] 9.0 0.1\n"
     ]
    },
    {
     "data": {
      "image/png": "[encoded data removed]",
      "text/plain": [
       "<Figure size 864x576 with 1 Axes>"
      ]
     },
     "metadata": {
      "needs_background": "light"
     },
     "output_type": "display_data"
    },
    {
     "name": "stdout",
     "output_type": "stream",
     "text": [
      "UDP Glucose\n",
      "correlations\n",
      "[1, 1, 1, 2, 2, 2, 3, 3, 3]\n",
      "[0.0395, 0.1262, 0.3864, 0.0559, 0.2832, 0.2394, 0.0008, 0.3655, 0.2561]\n",
      "Spearman 0.0 1.0\n",
      "Pearson 0.07061913240044043 0.8567324265641165\n",
      "linear regression 0.07061913240044039 0.8567324265641162\n",
      "\n",
      "[1, 1, 1, 2, 2, 2, 3, 3, 3]\n",
      "[0.2771, 0.2289, 0.3565, 0.209, 0.3227, 0.2752, 0.1071, 0.3748, 0.4592]\n",
      "Spearman 0.15811388300841894 0.6845283355605285\n",
      "Pearson 0.10977615373066368 0.7785995041313474\n",
      "linear regression 0.1097761537306637 0.7785995041313475\n",
      "boxplots\n",
      "[0.0395 0.1262 0.3864] [0.0559 0.2832 0.2394]\n",
      "[0.0395 0.1262 0.3864] [0.0559 0.2832 0.2394] 4.0 1.0\n",
      "[0.0395 0.1262 0.3864] [0.0008 0.3655 0.2561]\n",
      "[0.0395 0.1262 0.3864] [0.0008 0.3655 0.2561] 5.0 1.0\n",
      "[0.2771 0.2289 0.3565] [0.209  0.3227 0.2752] 6.0 0.7\n",
      "[0.2771 0.2289 0.3565] [0.1071 0.3748 0.4592] 3.0 0.7\n"
     ]
    },
    {
     "data": {
      "image/png": "[encoded data removed]",
      "text/plain": [
       "<Figure size 864x576 with 1 Axes>"
      ]
     },
     "metadata": {
      "needs_background": "light"
     },
     "output_type": "display_data"
    },
    {
     "name": "stdout",
     "output_type": "stream",
     "text": [
      "UDP-nAcGLn\n",
      "correlations\n",
      "[1, 1, 1, 2, 2, 2, 3, 3, 3]\n",
      "[0.1077, 0.1464, 0.1093, 0.0611, 0.1497, 0.0752, 0.1353, 0.0899, 0.1111]\n",
      "Spearman -0.05270462766947298 0.892879242924744\n",
      "Pearson -0.12730721772433146 0.7441291091297515\n",
      "linear regression -0.12730721772433146 0.7441291091297515\n",
      "\n",
      "[1, 1, 1, 2, 2, 2, 3, 3, 3]\n",
      "[0.3138, 0.2478, 0.2482, 0.2029, 0.328, 0.2692, 0.2655, 0.3107, 0.2948]\n",
      "Spearman 0.21081851067789192 0.5861141333812968\n",
      "Pearson 0.2212041706608075 0.567339391191496\n",
      "linear regression 0.2212041706608075 0.5673393911914958\n",
      "boxplots\n",
      "[0.1077 0.1464 0.1093] [0.0611 0.1497 0.0752]\n",
      "[0.1077 0.1464 0.1093] [0.0611 0.1497 0.0752] 6.0 0.7\n",
      "[0.1077 0.1464 0.1093] [0.1353 0.0899 0.1111]\n",
      "[0.1077 0.1464 0.1093] [0.1353 0.0899 0.1111] 5.0 1.0\n",
      "[0.3138 0.2478 0.2482] [0.2029 0.328  0.2692] 4.0 1.0\n",
      "[0.3138 0.2478 0.2482] [0.2655 0.3107 0.2948] 3.0 0.7\n"
     ]
    },
    {
     "data": {
      "image/png": "[encoded data removed]",
      "text/plain": [
       "<Figure size 864x576 with 1 Axes>"
      ]
     },
     "metadata": {
      "needs_background": "light"
     },
     "output_type": "display_data"
    }
   ],
   "source": [
    "for metab in df.columns[7:]:\n",
    "    \n",
    "    print(metab)\n",
    "        \n",
    "    loc_four_egm = df[(df['Treatment'] == 0) & (df['Timepoint (h)'] == 4) & (df['13label'] == 'egm')][metab].values\n",
    "    loc_four_zero = df[(df['Treatment'] == 0) & (df['Timepoint (h)'] == 4) & (df['13label'] == '15N2 glutamine')][metab].values\n",
    "    loc_four_half = df[(df['Treatment'] == 0.5) & (df['Timepoint (h)'] == 4)][metab].values\n",
    "    loc_four_five = df[(df['Treatment'] == 5) & (df['Timepoint (h)'] == 4)][metab].values\n",
    "\n",
    "    loc_twentyfour_egm = df[(df['Treatment'] == 0) & (df['Timepoint (h)'] == 24) & (df['13label'] == 'egm')][metab].values\n",
    "    loc_twentyfour_zero = df[(df['Treatment'] == 0) & (df['Timepoint (h)'] == 24) & (df['13label'] == '15N2 glutamine')][metab].values\n",
    "    loc_twentyfour_half = df[(df['Treatment'] == 0.5) & (df['Timepoint (h)'] == 24)][metab].values\n",
    "    loc_twentyfour_five = df[(df['Treatment'] == 5) & (df['Timepoint (h)'] == 24)][metab].values\n",
    "    \n",
    "    quant = [       \n",
    "        loc_four_egm, loc_four_zero, loc_four_half, loc_four_five,      \n",
    "        loc_twentyfour_egm, loc_twentyfour_zero, loc_twentyfour_half, loc_twentyfour_five]\n",
    "    \n",
    "    ###\n",
    "    ### correlations\n",
    "    ###\n",
    "    print('correlations')\n",
    "    \n",
    "    x = []; y = []\n",
    "    for element in loc_four_zero:\n",
    "        if ~numpy.isnan(element):\n",
    "            x.append(1); y.append(element)\n",
    "        \n",
    "    for element in loc_four_half:\n",
    "        if ~numpy.isnan(element):\n",
    "            x.append(2); y.append(element)\n",
    "        \n",
    "    for element in loc_four_five:\n",
    "        if ~numpy.isnan(element):\n",
    "            x.append(3); y.append(element)\n",
    "        \n",
    "    print(x)\n",
    "    print(y)\n",
    "    correlation, pvalue = scipy.stats.spearmanr(x, y)\n",
    "    print('Spearman', correlation, pvalue)\n",
    "    \n",
    "    correlation, pvalue = scipy.stats.pearsonr(x, y)\n",
    "    print('Pearson', correlation, pvalue)\n",
    "    \n",
    "    slope, intercept, r_value, p_value, std_err = scipy.stats.linregress(x, y)\n",
    "    print('linear regression', r_value, p_value)\n",
    "    line = (slope * numpy.array(x)) + intercept\n",
    "    \n",
    "    if p_value < 0.05:\n",
    "        matplotlib.pyplot.plot(x, y, 'ok', alpha=1/3, ms=20, mew=0)\n",
    "        matplotlib.pyplot.plot(x, line, '-', lw=4, color='blue')\n",
    "        matplotlib.pyplot.xlim([0.5, 3.5])\n",
    "        matplotlib.pyplot.xticks([1, 2, 3], ['0', '0.5', '5'])\n",
    "        matplotlib.pyplot.xlabel('Concentration (uM)')\n",
    "        matplotlib.pyplot.ylabel('Ratio')\n",
    "        matplotlib.pyplot.title('{} at 4 h'.format(metab))\n",
    "        matplotlib.pyplot.grid(ls=':')\n",
    "        matplotlib.pyplot.tight_layout()\n",
    "        matplotlib.pyplot.show()\n",
    "        \n",
    "    print()\n",
    "    \n",
    "    x = []; y = []\n",
    "    for element in loc_twentyfour_zero:\n",
    "        if ~numpy.isnan(element):\n",
    "            x.append(1); y.append(element)\n",
    "        \n",
    "    for element in loc_twentyfour_half:\n",
    "        if ~numpy.isnan(element):\n",
    "            x.append(2); y.append(element)\n",
    "        \n",
    "    for element in loc_twentyfour_five:\n",
    "        if ~numpy.isnan(element):\n",
    "            x.append(3); y.append(element)\n",
    "        \n",
    "    print(x)\n",
    "    print(y)\n",
    "    correlation, pvalue = scipy.stats.spearmanr(x, y)\n",
    "    print('Spearman', correlation, pvalue)\n",
    "    \n",
    "    correlation, pvalue = scipy.stats.pearsonr(x, y)\n",
    "    print('Pearson', correlation, pvalue)\n",
    "    \n",
    "    slope, intercept, r_value, p_value, std_err = scipy.stats.linregress(x, y)\n",
    "    print('linear regression', r_value, p_value)\n",
    "    line = (slope * numpy.array(x)) + intercept\n",
    "    \n",
    "    if p_value < 0.05:\n",
    "        matplotlib.pyplot.plot(x, y, 'ok', alpha=1/3, ms=20, mew=0)\n",
    "        matplotlib.pyplot.plot(x, line, '-', lw=4, color='red')\n",
    "        matplotlib.pyplot.xlim([0.5, 3.5])\n",
    "        matplotlib.pyplot.xticks([1, 2, 3], ['0', '0.5', '5'])\n",
    "        matplotlib.pyplot.xlabel('Concentration (uM)')\n",
    "        matplotlib.pyplot.ylabel('Ratio')\n",
    "        matplotlib.pyplot.title('{} at 24 h'.format(metab))\n",
    "        matplotlib.pyplot.grid(ls=':')\n",
    "        matplotlib.pyplot.tight_layout()\n",
    "        matplotlib.pyplot.show()\n",
    "        \n",
    "    ###\n",
    "    ### boxplots\n",
    "    ###\n",
    "    print('boxplots')\n",
    "    \n",
    "    f = matplotlib.pyplot.figure()\n",
    "    ax = f.add_subplot(111)\n",
    "    \n",
    "    filtered = [element[~numpy.isnan(element)] for element in quant]\n",
    "    \n",
    "        \n",
    "    matplotlib.pyplot.boxplot(filtered, showcaps=False, medianprops=dict(linewidth=2, color='black'), boxprops=dict(linewidth=2, color='gray'), whiskerprops=dict(linewidth=2, color='gray'))\n",
    "    #print('quant', quant)\n",
    "    #print('filtered', filtered)\n",
    "    \n",
    "    ###\n",
    "    ### scatter plots\n",
    "    ###\n",
    "    x=[]; y=[]\n",
    "    for i in range(len(quant)):\n",
    "        for j in range(len(quant[i])):\n",
    "            \n",
    "            shift = 0.25\n",
    "            r=-shift/2 + shift*numpy.random.random()\n",
    "            x.append(i+1+r)\n",
    "            \n",
    "            y.append(quant[i][j])\n",
    "            \n",
    "    matplotlib.pyplot.scatter(x, y, s=80, c='black', alpha=1/3, linewidths=0)\n",
    "    \n",
    "    ###\n",
    "    ### statistics\n",
    "    ###\n",
    "    reference = filtered[1]\n",
    "    for pos in [2, 3]:\n",
    "        print(reference, filtered[pos])\n",
    "        stat, pvalue = scipy.stats.mannwhitneyu(reference, filtered[pos])\n",
    "        print(reference, filtered[pos], stat, pvalue)\n",
    "        if 0.01 < pvalue < 0.05:\n",
    "            print(pos, 'significant', numpy.mean(reference), numpy.mean(filtered[pos]), pvalue)\n",
    "            matplotlib.pyplot.text(pos/5.75, 0.85, '*', transform=ax.transAxes, horizontalalignment='center', verticalalignment='center', fontsize=40)\n",
    "        if pvalue < 0.01:\n",
    "            print(pos, 'very significant', numpy.mean(reference), numpy.mean(filtered[pos]), pvalue)\n",
    "            matplotlib.pyplot.text(pos/5.5, 0.85, '**', transform=ax.transAxes, horizontalalignment='center', verticalalignment='center', fontsize=40)\n",
    "    \n",
    "    reference = filtered[5]\n",
    "    for pos in [6, 7]:\n",
    "        stat, pvalue = scipy.stats.mannwhitneyu(reference, filtered[pos])\n",
    "        print(reference, filtered[pos], stat, pvalue)\n",
    "        if 0.01 < pvalue < 0.05:\n",
    "            print(pos, 'significant', numpy.mean(reference), numpy.mean(filtered[pos]), pvalue)\n",
    "            matplotlib.pyplot.text(pos/6.5, 0.85, '*', transform=ax.transAxes, horizontalalignment='center', verticalalignment='center', fontsize=40)\n",
    "        if pvalue < 0.01:\n",
    "            print(pos, 'very significant', numpy.mean(reference), numpy.mean(filtered[pos]), pvalue)\n",
    "            matplotlib.pyplot.text(pos/6, 0.85, '**', transform=ax.transAxes, horizontalalignment='center', verticalalignment='center', fontsize=40)\n",
    "            \n",
    "    ###\n",
    "    ### close figure\n",
    "    ###\n",
    "    \n",
    "    matplotlib.pyplot.axvline(1.5, alpha=0.5, lw=2, color='black', ls=':')\n",
    "    matplotlib.pyplot.axvline(4.5, alpha=0.5, lw=2, color='black', ls=':')\n",
    "    \n",
    "    matplotlib.pyplot.text(0.1, 0.05, 'T=0', transform=ax.transAxes, horizontalalignment='center', verticalalignment='center')\n",
    "    matplotlib.pyplot.text(0.4, 0.05, 'T=4', transform=ax.transAxes, horizontalalignment='center', verticalalignment='center')\n",
    "    matplotlib.pyplot.text(0.8, 0.05, 'T=24', transform=ax.transAxes, horizontalalignment='center', verticalalignment='center')\n",
    "    \n",
    "    matplotlib.pyplot.xlabel('Treatment (uM)')\n",
    "    matplotlib.pyplot.ylabel('Ratio')   \n",
    "    matplotlib.pyplot.xticks([1, 2, 3, 4, 5, 6, 7, 8], ['NL', '0', '0.5', '5', 'NL', '0', '0.5', '5'])\n",
    "    matplotlib.pyplot.title(metab)\n",
    "    matplotlib.pyplot.tight_layout()\n",
    "    matplotlib.pyplot.show()"
   ]
  },
  {
   "cell_type": "code",
   "execution_count": null,
   "metadata": {},
   "outputs": [],
   "source": []
  }
 ],
 "metadata": {
  "kernelspec": {
   "display_name": "Python 3",
   "language": "python",
   "name": "python3"
  },
  "language_info": {
   "codemirror_mode": {
    "name": "ipython",
    "version": 3
   },
   "file_extension": ".py",
   "mimetype": "text/x-python",
   "name": "python",
   "nbconvert_exporter": "python",
   "pygments_lexer": "ipython3",
   "version": "3.7.11"
  }
 },
 "nbformat": 4,
 "nbformat_minor": 4
}
