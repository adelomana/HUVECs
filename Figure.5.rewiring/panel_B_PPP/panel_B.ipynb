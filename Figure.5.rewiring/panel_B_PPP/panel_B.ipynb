{
 "cells": [
  {
   "cell_type": "code",
   "execution_count": 1,
   "id": "09cca562",
   "metadata": {},
   "outputs": [],
   "source": [
    "import pandas, numpy\n",
    "\n",
    "import scipy, scipy.stats\n",
    "\n",
    "import matplotlib, matplotlib.pyplot\n",
    "matplotlib.rcParams.update({'font.size':20, 'font.family':'FreeSans', 'xtick.labelsize':20, 'ytick.labelsize':20, 'figure.figsize':(12, 8)})"
   ]
  },
  {
   "cell_type": "markdown",
   "id": "23e6e0e9",
   "metadata": {},
   "source": [
    "# info\n",
    "The original datafile is \"EC45_Extracellular_Lactate_glutamate_Glucose in medium\", linked __[here](https://reiknistofnun-my.sharepoint.com/:x:/g/personal/ottarr_hi_is/EU28aVXXoEFPmC7tfGtORxABBFC1KKf7D9TvIGul3hJJUg?email=adrian%40hi.is&e=4%3AxD72uJ&at=9)__. Only strictly required data has been stored in `PPP_flux.tsv`."
   ]
  },
  {
   "cell_type": "markdown",
   "id": "80db9729",
   "metadata": {},
   "source": [
    "# 0. user-defined variables"
   ]
  },
  {
   "cell_type": "code",
   "execution_count": 2,
   "id": "17125d26",
   "metadata": {},
   "outputs": [],
   "source": [
    "input_data_file = 'PPP_flux.tsv'\n",
    "treatments = [0, 0.5, 5]\n",
    "bio_reps = [1, 2 , 3]"
   ]
  },
  {
   "cell_type": "markdown",
   "id": "ab43e387",
   "metadata": {},
   "source": [
    "# 1. read data"
   ]
  },
  {
   "cell_type": "code",
   "execution_count": 3,
   "id": "946b5b0e",
   "metadata": {},
   "outputs": [
    {
     "data": {
      "text/html": [
       "<div>\n",
       "<style scoped>\n",
       "    .dataframe tbody tr th:only-of-type {\n",
       "        vertical-align: middle;\n",
       "    }\n",
       "\n",
       "    .dataframe tbody tr th {\n",
       "        vertical-align: top;\n",
       "    }\n",
       "\n",
       "    .dataframe thead th {\n",
       "        text-align: right;\n",
       "    }\n",
       "</style>\n",
       "<table border=\"1\" class=\"dataframe\">\n",
       "  <thead>\n",
       "    <tr style=\"text-align: right;\">\n",
       "      <th></th>\n",
       "      <th>biological replicate</th>\n",
       "      <th>treatment</th>\n",
       "      <th>m1</th>\n",
       "      <th>m2</th>\n",
       "    </tr>\n",
       "    <tr>\n",
       "      <th>name</th>\n",
       "      <th></th>\n",
       "      <th></th>\n",
       "      <th></th>\n",
       "      <th></th>\n",
       "    </tr>\n",
       "  </thead>\n",
       "  <tbody>\n",
       "    <tr>\n",
       "      <th>0 mM BR 1</th>\n",
       "      <td>1</td>\n",
       "      <td>0.0</td>\n",
       "      <td>0.01192</td>\n",
       "      <td>0.19685</td>\n",
       "    </tr>\n",
       "    <tr>\n",
       "      <th>0 mM BR 2</th>\n",
       "      <td>2</td>\n",
       "      <td>0.0</td>\n",
       "      <td>0.01149</td>\n",
       "      <td>0.19555</td>\n",
       "    </tr>\n",
       "    <tr>\n",
       "      <th>0 mM BR 3</th>\n",
       "      <td>3</td>\n",
       "      <td>0.0</td>\n",
       "      <td>0.01486</td>\n",
       "      <td>0.18064</td>\n",
       "    </tr>\n",
       "    <tr>\n",
       "      <th>0.5 mM BR1</th>\n",
       "      <td>1</td>\n",
       "      <td>0.5</td>\n",
       "      <td>0.00765</td>\n",
       "      <td>0.19531</td>\n",
       "    </tr>\n",
       "    <tr>\n",
       "      <th>0.5 mM BR2</th>\n",
       "      <td>2</td>\n",
       "      <td>0.5</td>\n",
       "      <td>0.01670</td>\n",
       "      <td>0.20229</td>\n",
       "    </tr>\n",
       "    <tr>\n",
       "      <th>0.5 mM BR3</th>\n",
       "      <td>3</td>\n",
       "      <td>0.5</td>\n",
       "      <td>0.01127</td>\n",
       "      <td>0.19243</td>\n",
       "    </tr>\n",
       "    <tr>\n",
       "      <th>5 mM BR1</th>\n",
       "      <td>1</td>\n",
       "      <td>5.0</td>\n",
       "      <td>0.00881</td>\n",
       "      <td>0.19632</td>\n",
       "    </tr>\n",
       "    <tr>\n",
       "      <th>5 mM BR2</th>\n",
       "      <td>2</td>\n",
       "      <td>5.0</td>\n",
       "      <td>0.01178</td>\n",
       "      <td>0.19487</td>\n",
       "    </tr>\n",
       "    <tr>\n",
       "      <th>5 mM BR3</th>\n",
       "      <td>3</td>\n",
       "      <td>5.0</td>\n",
       "      <td>0.01229</td>\n",
       "      <td>0.20159</td>\n",
       "    </tr>\n",
       "  </tbody>\n",
       "</table>\n",
       "</div>"
      ],
      "text/plain": [
       "            biological replicate  treatment       m1       m2\n",
       "name                                                         \n",
       "0 mM BR 1                      1        0.0  0.01192  0.19685\n",
       "0 mM BR 2                      2        0.0  0.01149  0.19555\n",
       "0 mM BR 3                      3        0.0  0.01486  0.18064\n",
       "0.5 mM BR1                     1        0.5  0.00765  0.19531\n",
       "0.5 mM BR2                     2        0.5  0.01670  0.20229\n",
       "0.5 mM BR3                     3        0.5  0.01127  0.19243\n",
       "5 mM BR1                       1        5.0  0.00881  0.19632\n",
       "5 mM BR2                       2        5.0  0.01178  0.19487\n",
       "5 mM BR3                       3        5.0  0.01229  0.20159"
      ]
     },
     "execution_count": 3,
     "metadata": {},
     "output_type": "execute_result"
    }
   ],
   "source": [
    "df = pandas.read_csv(input_data_file, sep='\\t', index_col=0)\n",
    "df"
   ]
  },
  {
   "cell_type": "markdown",
   "id": "0d553d01",
   "metadata": {},
   "source": [
    "# 2. generate figure"
   ]
  },
  {
   "cell_type": "markdown",
   "id": "cdafaced",
   "metadata": {},
   "source": [
    "Pentose cycle ration is calculated from [Lee et al.](https://pubmed.ncbi.nlm.nih.gov/9612242/).\n",
    "PC = (m1/m2)/(3 + m1/m2)"
   ]
  },
  {
   "cell_type": "code",
   "execution_count": 4,
   "id": "c577658e",
   "metadata": {},
   "outputs": [
    {
     "name": "stdout",
     "output_type": "stream",
     "text": [
      "0 1 0.01192 0.019785217521204376\n",
      "0 2 0.01149 0.019209549603771692\n",
      "0 3 0.01486 0.026689177053773484\n",
      "\n",
      "0.5 1 0.00765 0.012887900535732334\n",
      "0.5 2 0.0167 0.026781275558477795\n",
      "0.5 3 0.01127 0.019148430066603234\n",
      "\n",
      "5 1 0.00881 0.014738109975408602\n",
      "5 2 0.01178 0.019752175589798623\n",
      "5 3 0.01229 0.01991702589699543\n",
      "\n"
     ]
    }
   ],
   "source": [
    "all_ratios = []\n",
    "for treatment in treatments:\n",
    "    local_ratios = []\n",
    "    for bio_rep in bio_reps:\n",
    "        m1 = df[(df['treatment'] == treatment) & (df['biological replicate'] == bio_rep)]['m1'].values[0]\n",
    "        m2 = df[(df['treatment'] == treatment) & (df['biological replicate'] == bio_rep)]['m2'].values[0]\n",
    "        \n",
    "        pc = (m1/m2)/(3 + (m1/m2))\n",
    "        pc100 = pc * 100\n",
    "        \n",
    "        print(treatment, bio_rep, m1, pc)\n",
    "        \n",
    "        local_ratios.append(pc100)\n",
    "    \n",
    "    print()\n",
    "    all_ratios.append(local_ratios)    "
   ]
  },
  {
   "cell_type": "code",
   "execution_count": 5,
   "id": "66ca780d",
   "metadata": {},
   "outputs": [
    {
     "name": "stdout",
     "output_type": "stream",
     "text": [
      "[1.9785217521204375, 1.9209549603771692, 2.6689177053773485] [1.2887900535732335, 2.6781275558477797, 1.9148430066603235] 0.7\n",
      "\n",
      "[1.9785217521204375, 1.9209549603771692, 2.6689177053773485] [1.4738109975408602, 1.9752175589798624, 1.991702589699543] 0.7\n"
     ]
    }
   ],
   "source": [
    "# statistics\n",
    "stat, pvalue = scipy.stats.mannwhitneyu(all_ratios[0], all_ratios[1])\n",
    "print(all_ratios[0], all_ratios[1], pvalue)\n",
    "\n",
    "print()\n",
    "stat, pvalue = scipy.stats.mannwhitneyu(all_ratios[0], all_ratios[2])\n",
    "print(all_ratios[0], all_ratios[2], pvalue)"
   ]
  },
  {
   "cell_type": "markdown",
   "id": "b17c3ef0",
   "metadata": {},
   "source": [
    "# 3. generate figure"
   ]
  },
  {
   "cell_type": "code",
   "execution_count": 7,
   "id": "dc2090bc",
   "metadata": {},
   "outputs": [
    {
     "data": {
      "image/png": "[encoded data removed]",
      "text/plain": [
       "<Figure size 864x576 with 1 Axes>"
      ]
     },
     "metadata": {
      "needs_background": "light"
     },
     "output_type": "display_data"
    }
   ],
   "source": [
    "#\n",
    "# boxplot\n",
    "#\n",
    "matplotlib.pyplot.boxplot(all_ratios, showcaps=False, medianprops=dict(linewidth=2, color='black'), boxprops=dict(linewidth=2, color='gray'), whiskerprops=dict(linewidth=2, color='gray'))\n",
    "\n",
    "#\n",
    "# scatter plot\n",
    "#\n",
    "x=[]; y=[]\n",
    "for i in range(len(all_ratios)):\n",
    "    for j in range(len(all_ratios[i])):\n",
    "            \n",
    "        shift = 0.1\n",
    "        r=-shift/2 + shift*numpy.random.random()\n",
    "        x.append(i+1+r)\n",
    "            \n",
    "        y.append(all_ratios[i][j])\n",
    "            \n",
    "matplotlib.pyplot.scatter(x, y, s=80, c='black', alpha=1/3, linewidths=0)\n",
    "\n",
    "#\n",
    "# close figure\n",
    "#\n",
    "matplotlib.pyplot.ylim([0, 5])\n",
    "\n",
    "matplotlib.pyplot.xticks([1, 2, 3], ['0', '0.5', '5'])\n",
    "\n",
    "matplotlib.pyplot.xlabel('Treatment (uM)')\n",
    "matplotlib.pyplot.ylabel('Glucose converted to pentose phosphate (%)')\n",
    "\n",
    "matplotlib.pyplot.grid(ls=':', alpha=0.5)\n",
    "matplotlib.pyplot.tight_layout()    \n",
    "\n",
    "matplotlib.pyplot.savefig('pc.svg')"
   ]
  }
 ],
 "metadata": {
  "kernelspec": {
   "display_name": "Python 3",
   "language": "python",
   "name": "python3"
  },
  "language_info": {
   "codemirror_mode": {
    "name": "ipython",
    "version": 3
   },
   "file_extension": ".py",
   "mimetype": "text/x-python",
   "name": "python",
   "nbconvert_exporter": "python",
   "pygments_lexer": "ipython3",
   "version": "3.7.11"
  }
 },
 "nbformat": 4,
 "nbformat_minor": 5
}
