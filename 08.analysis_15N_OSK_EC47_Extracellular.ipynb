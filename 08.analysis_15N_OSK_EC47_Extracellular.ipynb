{
 "cells": [
  {
   "cell_type": "code",
   "execution_count": 1,
   "metadata": {},
   "outputs": [],
   "source": [
    "import pandas, numpy\n",
    "\n",
    "import scipy, scipy.stats\n",
    "\n",
    "import matplotlib, matplotlib.pyplot\n",
    "matplotlib.rcParams.update({'font.size':20, 'font.family':'FreeSans', 'xtick.labelsize':20, 'ytick.labelsize':20})"
   ]
  },
  {
   "cell_type": "markdown",
   "metadata": {},
   "source": [
    "# 0. user-defined variables"
   ]
  },
  {
   "cell_type": "code",
   "execution_count": 2,
   "metadata": {},
   "outputs": [],
   "source": [
    "data_file ='/home/adrian/projects/HUVECs/data/csv/HUVEC_AllMeasurements_Summary_21.12.2020.15N_OSK_EC47_Extracellular.csv'"
   ]
  },
  {
   "cell_type": "markdown",
   "metadata": {},
   "source": [
    "# 1. read data"
   ]
  },
  {
   "cell_type": "code",
   "execution_count": 3,
   "metadata": {
    "scrolled": false
   },
   "outputs": [
    {
     "data": {
      "text/html": [
       "<div>\n",
       "<style scoped>\n",
       "    .dataframe tbody tr th:only-of-type {\n",
       "        vertical-align: middle;\n",
       "    }\n",
       "\n",
       "    .dataframe tbody tr th {\n",
       "        vertical-align: top;\n",
       "    }\n",
       "\n",
       "    .dataframe thead th {\n",
       "        text-align: right;\n",
       "    }\n",
       "</style>\n",
       "<table border=\"1\" class=\"dataframe\">\n",
       "  <thead>\n",
       "    <tr style=\"text-align: right;\">\n",
       "      <th></th>\n",
       "      <th>Sample ID</th>\n",
       "      <th>Sample ID Rosa</th>\n",
       "      <th>Experiment</th>\n",
       "      <th>13label</th>\n",
       "      <th>Treatment</th>\n",
       "      <th>Timepoint (h)</th>\n",
       "      <th>Cell numbers</th>\n",
       "      <th>191.04_Na+_Glutamine derivativeat169.049</th>\n",
       "      <th>Glutamine</th>\n",
       "      <th>Aspartate</th>\n",
       "    </tr>\n",
       "  </thead>\n",
       "  <tbody>\n",
       "    <tr>\n",
       "      <th>0</th>\n",
       "      <td>EC047-EGM-0-1</td>\n",
       "      <td>EC047-EGM-0-1</td>\n",
       "      <td>EC47</td>\n",
       "      <td>egm</td>\n",
       "      <td>0.0</td>\n",
       "      <td>0</td>\n",
       "      <td>NaN</td>\n",
       "      <td>0.0000</td>\n",
       "      <td>0.0257</td>\n",
       "      <td>0.0149</td>\n",
       "    </tr>\n",
       "    <tr>\n",
       "      <th>1</th>\n",
       "      <td>EC047-EGM-0-2</td>\n",
       "      <td>EC047-EGM-0-2</td>\n",
       "      <td>EC47</td>\n",
       "      <td>egm</td>\n",
       "      <td>0.0</td>\n",
       "      <td>0</td>\n",
       "      <td>NaN</td>\n",
       "      <td>0.0024</td>\n",
       "      <td>0.0099</td>\n",
       "      <td>0.0000</td>\n",
       "    </tr>\n",
       "    <tr>\n",
       "      <th>2</th>\n",
       "      <td>EC047-EGM-6-1</td>\n",
       "      <td>EC047-EGM-6-1</td>\n",
       "      <td>EC47</td>\n",
       "      <td>egm</td>\n",
       "      <td>0.0</td>\n",
       "      <td>6</td>\n",
       "      <td>NaN</td>\n",
       "      <td>0.0000</td>\n",
       "      <td>0.0068</td>\n",
       "      <td>0.0000</td>\n",
       "    </tr>\n",
       "    <tr>\n",
       "      <th>3</th>\n",
       "      <td>EC047-EGM-6-2</td>\n",
       "      <td>EC047-EGM-6-2</td>\n",
       "      <td>EC47</td>\n",
       "      <td>egm</td>\n",
       "      <td>0.0</td>\n",
       "      <td>6</td>\n",
       "      <td>NaN</td>\n",
       "      <td>0.0000</td>\n",
       "      <td>0.0057</td>\n",
       "      <td>0.0000</td>\n",
       "    </tr>\n",
       "    <tr>\n",
       "      <th>4</th>\n",
       "      <td>EC047-EGM-6-3</td>\n",
       "      <td>EC047-EGM-6-3</td>\n",
       "      <td>EC47</td>\n",
       "      <td>egm</td>\n",
       "      <td>0.0</td>\n",
       "      <td>6</td>\n",
       "      <td>NaN</td>\n",
       "      <td>0.0000</td>\n",
       "      <td>0.0148</td>\n",
       "      <td>0.0098</td>\n",
       "    </tr>\n",
       "  </tbody>\n",
       "</table>\n",
       "</div>"
      ],
      "text/plain": [
       "       Sample ID Sample ID Rosa Experiment 13label  Treatment  Timepoint (h)  \\\n",
       "0  EC047-EGM-0-1  EC047-EGM-0-1       EC47     egm        0.0              0   \n",
       "1  EC047-EGM-0-2  EC047-EGM-0-2       EC47     egm        0.0              0   \n",
       "2  EC047-EGM-6-1  EC047-EGM-6-1       EC47     egm        0.0              6   \n",
       "3  EC047-EGM-6-2  EC047-EGM-6-2       EC47     egm        0.0              6   \n",
       "4  EC047-EGM-6-3  EC047-EGM-6-3       EC47     egm        0.0              6   \n",
       "\n",
       "   Cell numbers  191.04_Na+_Glutamine derivativeat169.049  Glutamine  \\\n",
       "0           NaN                                    0.0000     0.0257   \n",
       "1           NaN                                    0.0024     0.0099   \n",
       "2           NaN                                    0.0000     0.0068   \n",
       "3           NaN                                    0.0000     0.0057   \n",
       "4           NaN                                    0.0000     0.0148   \n",
       "\n",
       "   Aspartate  \n",
       "0     0.0149  \n",
       "1     0.0000  \n",
       "2     0.0000  \n",
       "3     0.0000  \n",
       "4     0.0098  "
      ]
     },
     "execution_count": 3,
     "metadata": {},
     "output_type": "execute_result"
    }
   ],
   "source": [
    "df = pandas.read_csv(data_file)\n",
    "df.astype('float', errors='ignore')\n",
    "df.head()"
   ]
  },
  {
   "cell_type": "markdown",
   "metadata": {},
   "source": [
    "# 2. format data"
   ]
  },
  {
   "cell_type": "markdown",
   "metadata": {},
   "source": [
    "## 2.1. select appropriate rows"
   ]
  },
  {
   "cell_type": "code",
   "execution_count": 4,
   "metadata": {},
   "outputs": [],
   "source": [
    "# remove egm of T4 and T24 because they are very close to zero\n",
    "df = df[~((df['13label'] == 'egm') & (df['Timepoint (h)'] == 0))] \n",
    "df = df[~((df['13label'] == 'egm') & (df['Timepoint (h)'] == 6))] \n",
    "df = df[~((df['13label'] == 'egm') & (df['Timepoint (h)'] == 24))] "
   ]
  },
  {
   "cell_type": "code",
   "execution_count": 5,
   "metadata": {
    "scrolled": false
   },
   "outputs": [
    {
     "name": "stdout",
     "output_type": "stream",
     "text": [
      "             Sample ID      Sample ID Rosa Experiment         13label  \\\n",
      "8      EC047-F-13C-0-1     EC047-F-13C-0-1       EC47  15N2 glutamine   \n",
      "9      EC047-F-13C-0-2     EC047-F-13C-0-2       EC47  15N2 glutamine   \n",
      "10   EC047-G-0.5uM-0-1   EC047-G-0.5uM-0-1       EC47  15N2 glutamine   \n",
      "11   EC047-G-0.5uM-0-2   EC047-G-0.5uM-0-2       EC47  15N2 glutamine   \n",
      "12     EC047-H-5uM-0-1     EC047-H-5uM-0-1       EC47  15N2 glutamine   \n",
      "13     EC047-H-5uM-0-2     EC047-H-5uM-0-2       EC47  15N2 glutamine   \n",
      "14     EC047-F-15N-6-1     EC047-F-15N-6-1       EC47  15N2 glutamine   \n",
      "15     EC047-F-15N-6-2     EC047-F-15N-6-2       EC47  15N2 glutamine   \n",
      "16     EC047-F-15N-6-3     EC047-F-15N-6-3       EC47  15N2 glutamine   \n",
      "17   EC047-G-0.5uM-6-1   EC047-G-0.5uM-6-1       EC47  15N2 glutamine   \n",
      "18   EC047-G-0.5uM-6-2   EC047-G-0.5uM-6-2       EC47  15N2 glutamine   \n",
      "19   EC047-G-0.5uM-6-3   EC047-G-0.5uM-6-3       EC47  15N2 glutamine   \n",
      "20     EC047-H-5uM-6-1     EC047-H-5uM-6-1       EC47  15N2 glutamine   \n",
      "21     EC047-H-5uM-6-2     EC047-H-5uM-6-2       EC47  15N2 glutamine   \n",
      "22     EC047-H-5uM-6-3     EC047-H-5uM-6-3       EC47  15N2 glutamine   \n",
      "23    EC047-F-15N-24-1    EC047-F-15N-24-1       EC47  15N2 glutamine   \n",
      "24    EC047-F-15N-24-2    EC047-F-15N-24-2       EC47  15N2 glutamine   \n",
      "25    EC047-F-15N-24-3    EC047-F-15N-24-3       EC47  15N2 glutamine   \n",
      "26  EC047-G-0.5uM-24-1  EC047-G-0.5uM-24-1       EC47  15N2 glutamine   \n",
      "27  EC047-G-0.5uM-24-2  EC047-G-0.5uM-24-2       EC47  15N2 glutamine   \n",
      "28  EC047-G-0.5uM-24-3  EC047-G-0.5uM-24-3       EC47  15N2 glutamine   \n",
      "29    EC047-H-5uM-24-1    EC047-H-5uM-24-1       EC47  15N2 glutamine   \n",
      "30    EC047-H-5uM-24-2    EC047-H-5uM-24-2       EC47  15N2 glutamine   \n",
      "31    EC047-H-5uM-24-3    EC047-H-5uM-24-3       EC47  15N2 glutamine   \n",
      "\n",
      "    Treatment  Timepoint (h)  Cell numbers  \\\n",
      "8         0.0              0           NaN   \n",
      "9         0.0              0           NaN   \n",
      "10        0.5              0           NaN   \n",
      "11        0.5              0           NaN   \n",
      "12        5.0              0           NaN   \n",
      "13        5.0              0           NaN   \n",
      "14        0.0              6           NaN   \n",
      "15        0.0              6           NaN   \n",
      "16        0.0              6           NaN   \n",
      "17        0.5              6           NaN   \n",
      "18        0.5              6           NaN   \n",
      "19        0.5              6           NaN   \n",
      "20        5.0              6           NaN   \n",
      "21        5.0              6           NaN   \n",
      "22        5.0              6           NaN   \n",
      "23        0.0             24           NaN   \n",
      "24        0.0             24           NaN   \n",
      "25        0.0             24           NaN   \n",
      "26        0.5             24           NaN   \n",
      "27        0.5             24           NaN   \n",
      "28        0.5             24           NaN   \n",
      "29        5.0             24           NaN   \n",
      "30        5.0             24           NaN   \n",
      "31        5.0             24           NaN   \n",
      "\n",
      "    191.04_Na+_Glutamine derivativeat169.049  Glutamine  Aspartate  \n",
      "8                                     0.5841     0.6240     0.0666  \n",
      "9                                     0.5844     0.6241     0.0430  \n",
      "10                                    0.5984     0.6295     0.0000  \n",
      "11                                    0.6068     0.6505     0.0094  \n",
      "12                                    0.5838     0.5978     0.0000  \n",
      "13                                    0.5866     0.6253     0.0085  \n",
      "14                                    0.5579     0.6070     0.0847  \n",
      "15                                    0.5730     0.6308     0.0368  \n",
      "16                                    0.5616     0.6057     0.0663  \n",
      "17                                    0.5823     0.6381     0.0251  \n",
      "18                                    0.5998     0.6085     0.0438  \n",
      "19                                    0.6083     0.6256     0.0416  \n",
      "20                                    0.5607     0.5866     0.0228  \n",
      "21                                    0.5704     0.5932     0.0000  \n",
      "22                                    0.5724     0.6087     0.0938  \n",
      "23                                    0.5743     0.6062     0.1492  \n",
      "24                                    0.5695     0.6157     0.1376  \n",
      "25                                    0.5768     0.5850     0.1162  \n",
      "26                                    0.6091     0.6239     0.1014  \n",
      "27                                    0.5947     0.6213     0.1467  \n",
      "28                                    0.5871     0.6257     0.1722  \n",
      "29                                    0.5691     0.6129     0.1400  \n",
      "30                                    0.5730     0.6301     0.1451  \n",
      "31                                    0.5768     0.6312     0.1354  \n"
     ]
    }
   ],
   "source": [
    "pandas.set_option(\"display.max_rows\", 200, \"display.max_columns\", 20)\n",
    "print(df)"
   ]
  },
  {
   "cell_type": "markdown",
   "metadata": {},
   "source": [
    "# 3. plot"
   ]
  },
  {
   "cell_type": "code",
   "execution_count": 6,
   "metadata": {
    "scrolled": false
   },
   "outputs": [
    {
     "name": "stdout",
     "output_type": "stream",
     "text": [
      "191.04_Na+_Glutamine derivativeat169.049\n",
      "2 significant 0.5641666666666666 0.5968 0.04042779918502612\n",
      "5 significant 0.5735333333333333 0.5969666666666666 0.04042779918502612\n"
     ]
    },
    {
     "data": {
      "image/png": "[encoded data removed]",
      "text/plain": [
       "<Figure size 432x288 with 1 Axes>"
      ]
     },
     "metadata": {
      "needs_background": "light"
     },
     "output_type": "display_data"
    },
    {
     "name": "stdout",
     "output_type": "stream",
     "text": [
      "Glutamine\n",
      "5 significant 0.6023 0.6236333333333334 0.04042779918502612\n"
     ]
    },
    {
     "data": {
      "image/png": "[encoded data removed]",
      "text/plain": [
       "<Figure size 432x288 with 1 Axes>"
      ]
     },
     "metadata": {
      "needs_background": "light"
     },
     "output_type": "display_data"
    },
    {
     "name": "stdout",
     "output_type": "stream",
     "text": [
      "Aspartate\n"
     ]
    },
    {
     "data": {
      "image/png": "[encoded data removed]",
      "text/plain": [
       "<Figure size 432x288 with 1 Axes>"
      ]
     },
     "metadata": {
      "needs_background": "light"
     },
     "output_type": "display_data"
    }
   ],
   "source": [
    "for metab in df.columns[7:]:\n",
    "    \n",
    "    print(metab)\n",
    "    \n",
    "    loc_zero_zero = df[(df['Treatment'] == 0) & (df['Timepoint (h)'] == 0)][metab].values\n",
    "    \n",
    "    loc_four_zero = df[(df['Treatment'] == 0) & (df['Timepoint (h)'] == 6)][metab].values\n",
    "    loc_four_half = df[(df['Treatment'] == 0.5) & (df['Timepoint (h)'] == 6)][metab].values\n",
    "    loc_four_five = df[(df['Treatment'] == 5) & (df['Timepoint (h)'] == 6)][metab].values\n",
    "\n",
    "    loc_twentyfour_zero = df[(df['Treatment'] == 0) & (df['Timepoint (h)'] == 24)][metab].values\n",
    "    loc_twentyfour_half = df[(df['Treatment'] == 0.5) & (df['Timepoint (h)'] == 24)][metab].values\n",
    "    loc_twentyfour_five = df[(df['Treatment'] == 5) & (df['Timepoint (h)'] == 24)][metab].values\n",
    "    \n",
    "    quant = [loc_zero_zero, loc_four_zero, loc_four_half, loc_four_five, loc_twentyfour_zero, loc_twentyfour_half, loc_twentyfour_five]\n",
    "        \n",
    "    ###\n",
    "    ### boxplots\n",
    "    ###\n",
    "    \n",
    "    f = matplotlib.pyplot.figure()\n",
    "    ax = f.add_subplot(111)\n",
    "    \n",
    "    filtered = [element[~numpy.isnan(element)] for element in quant]\n",
    "        \n",
    "    matplotlib.pyplot.boxplot(filtered, showcaps=False, medianprops=dict(linewidth=2, color='black'), boxprops=dict(linewidth=2, color='gray'), whiskerprops=dict(linewidth=2, color='gray'))\n",
    "    \n",
    "    ###\n",
    "    ### scatter plots\n",
    "    ###\n",
    "    \n",
    "    x=[]; y=[]\n",
    "    for i in range(len(quant)):\n",
    "        for j in range(len(quant[i])):\n",
    "            \n",
    "            shift = 0.25\n",
    "            r=-shift/2 + shift*numpy.random.random()\n",
    "            x.append(i+1+r)\n",
    "            \n",
    "            y.append(quant[i][j])\n",
    "            \n",
    "    matplotlib.pyplot.scatter(x, y, s=80, c='black', alpha=1/3, linewidths=0)\n",
    "    \n",
    "    ###\n",
    "    ### statistics\n",
    "    ###\n",
    "    \n",
    "    for pos in [2, 3]:\n",
    "        if list(filtered[1]) != list(filtered[pos]):\n",
    "            stat, pvalue = scipy.stats.mannwhitneyu(filtered[1], filtered[pos])\n",
    "            if 0.01 < pvalue < 0.05:\n",
    "                print(pos, 'significant', numpy.mean(filtered[1]), numpy.mean(filtered[pos]), pvalue)\n",
    "                matplotlib.pyplot.text(pos/5.75, 0.85, '*', transform=ax.transAxes, horizontalalignment='center', verticalalignment='center', fontsize=40)\n",
    "            if pvalue < 0.01:\n",
    "                print(pos, 'very significant', numpy.mean(filtered[1]), numpy.mean(filtered[pos]), pvalue)\n",
    "                matplotlib.pyplot.text(pos/5.5, 0.85, '**', transform=ax.transAxes, horizontalalignment='center', verticalalignment='center', fontsize=40)\n",
    "            \n",
    "    for pos in [5, 6]:\n",
    "        if list(filtered[4]) != list(filtered[pos]):\n",
    "            stat, pvalue = scipy.stats.mannwhitneyu(filtered[4], filtered[pos])\n",
    "            if 0.01 < pvalue < 0.05:\n",
    "                print(pos, 'significant', numpy.mean(filtered[4]), numpy.mean(filtered[pos]), pvalue)\n",
    "                matplotlib.pyplot.text(pos/6.5, 0.85, '*', transform=ax.transAxes, horizontalalignment='center', verticalalignment='center', fontsize=40)\n",
    "            if pvalue < 0.01:\n",
    "                print(pos, 'very significant', numpy.mean(filtered[5]), numpy.mean(filtered[pos]), pvalue)\n",
    "                matplotlib.pyplot.text(pos/6, 0.85, '**', transform=ax.transAxes, horizontalalignment='center', verticalalignment='center', fontsize=40)\n",
    "            \n",
    "    ###\n",
    "    ### close figure\n",
    "    ###\n",
    "    \n",
    "    matplotlib.pyplot.axvline(1.5, alpha=0.5, lw=2, color='black', ls=':')\n",
    "    matplotlib.pyplot.axvline(4.5, alpha=0.5, lw=2, color='black', ls=':')\n",
    "    \n",
    "    matplotlib.pyplot.text(0.055, 0.05, 'T=0', transform=ax.transAxes, horizontalalignment='center', verticalalignment='center')\n",
    "    matplotlib.pyplot.text(0.35, 0.05, 'T=4', transform=ax.transAxes, horizontalalignment='center', verticalalignment='center')\n",
    "    matplotlib.pyplot.text(0.8, 0.05, 'T=24', transform=ax.transAxes, horizontalalignment='center', verticalalignment='center')\n",
    "    \n",
    "    matplotlib.pyplot.xlabel('Treatment (uM)')\n",
    "    matplotlib.pyplot.ylabel('Ratio')\n",
    "    matplotlib.pyplot.xticks([1, 2, 3, 4, 5, 6, 7], ['0', '0', '0.5', '5', '0', '0.5', '5'])\n",
    "    matplotlib.pyplot.title(metab)\n",
    "    matplotlib.pyplot.tight_layout()\n",
    "    matplotlib.pyplot.show()"
   ]
  }
 ],
 "metadata": {
  "kernelspec": {
   "display_name": "Python 3",
   "language": "python",
   "name": "python3"
  },
  "language_info": {
   "codemirror_mode": {
    "name": "ipython",
    "version": 3
   },
   "file_extension": ".py",
   "mimetype": "text/x-python",
   "name": "python",
   "nbconvert_exporter": "python",
   "pygments_lexer": "ipython3",
   "version": "3.7.9"
  }
 },
 "nbformat": 4,
 "nbformat_minor": 4
}
