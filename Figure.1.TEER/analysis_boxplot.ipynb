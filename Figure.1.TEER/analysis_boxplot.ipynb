{
 "cells": [
  {
   "cell_type": "code",
   "execution_count": 1,
   "metadata": {},
   "outputs": [],
   "source": [
    "import pandas, numpy, seaborn, random\n",
    "\n",
    "import scipy, scipy.stats\n",
    "\n",
    "import matplotlib, matplotlib.pyplot\n",
    "matplotlib.rcParams.update({'font.size':40, 'font.family':'FreeSans', 'xtick.labelsize':40, 'ytick.labelsize':40, 'figure.figsize':(16,8)})"
   ]
  },
  {
   "cell_type": "markdown",
   "metadata": {},
   "source": [
    "# 1. read data"
   ]
  },
  {
   "cell_type": "code",
   "execution_count": 2,
   "metadata": {},
   "outputs": [],
   "source": [
    "data_file = '/Users/adrian/gd15/hi/research/huvec/data/TEER/TEER measurements without blank - Sheet1.tsv'"
   ]
  },
  {
   "cell_type": "code",
   "execution_count": 3,
   "metadata": {},
   "outputs": [
    {
     "data": {
      "text/html": [
       "<div>\n",
       "<style scoped>\n",
       "    .dataframe tbody tr th:only-of-type {\n",
       "        vertical-align: middle;\n",
       "    }\n",
       "\n",
       "    .dataframe tbody tr th {\n",
       "        vertical-align: top;\n",
       "    }\n",
       "\n",
       "    .dataframe thead th {\n",
       "        text-align: right;\n",
       "    }\n",
       "</style>\n",
       "<table border=\"1\" class=\"dataframe\">\n",
       "  <thead>\n",
       "    <tr style=\"text-align: right;\">\n",
       "      <th></th>\n",
       "      <th>ohms * cm2</th>\n",
       "      <th>replicate</th>\n",
       "      <th>condition</th>\n",
       "      <th>time</th>\n",
       "    </tr>\n",
       "  </thead>\n",
       "  <tbody>\n",
       "    <tr>\n",
       "      <th>0</th>\n",
       "      <td>16.50</td>\n",
       "      <td>1</td>\n",
       "      <td>0 um cat</td>\n",
       "      <td>0</td>\n",
       "    </tr>\n",
       "    <tr>\n",
       "      <th>1</th>\n",
       "      <td>8.58</td>\n",
       "      <td>1</td>\n",
       "      <td>0 um cat</td>\n",
       "      <td>1</td>\n",
       "    </tr>\n",
       "    <tr>\n",
       "      <th>2</th>\n",
       "      <td>7.59</td>\n",
       "      <td>1</td>\n",
       "      <td>0 um cat</td>\n",
       "      <td>4</td>\n",
       "    </tr>\n",
       "    <tr>\n",
       "      <th>3</th>\n",
       "      <td>8.58</td>\n",
       "      <td>1</td>\n",
       "      <td>0 um cat</td>\n",
       "      <td>24</td>\n",
       "    </tr>\n",
       "    <tr>\n",
       "      <th>4</th>\n",
       "      <td>14.19</td>\n",
       "      <td>2</td>\n",
       "      <td>0 um cat</td>\n",
       "      <td>0</td>\n",
       "    </tr>\n",
       "    <tr>\n",
       "      <th>...</th>\n",
       "      <td>...</td>\n",
       "      <td>...</td>\n",
       "      <td>...</td>\n",
       "      <td>...</td>\n",
       "    </tr>\n",
       "    <tr>\n",
       "      <th>59</th>\n",
       "      <td>0.00</td>\n",
       "      <td>3</td>\n",
       "      <td>TNFa</td>\n",
       "      <td>24</td>\n",
       "    </tr>\n",
       "    <tr>\n",
       "      <th>60</th>\n",
       "      <td>15.84</td>\n",
       "      <td>4</td>\n",
       "      <td>TNFa</td>\n",
       "      <td>0</td>\n",
       "    </tr>\n",
       "    <tr>\n",
       "      <th>61</th>\n",
       "      <td>10.56</td>\n",
       "      <td>4</td>\n",
       "      <td>TNFa</td>\n",
       "      <td>1</td>\n",
       "    </tr>\n",
       "    <tr>\n",
       "      <th>62</th>\n",
       "      <td>7.92</td>\n",
       "      <td>4</td>\n",
       "      <td>TNFa</td>\n",
       "      <td>4</td>\n",
       "    </tr>\n",
       "    <tr>\n",
       "      <th>63</th>\n",
       "      <td>0.99</td>\n",
       "      <td>4</td>\n",
       "      <td>TNFa</td>\n",
       "      <td>24</td>\n",
       "    </tr>\n",
       "  </tbody>\n",
       "</table>\n",
       "<p>64 rows × 4 columns</p>\n",
       "</div>"
      ],
      "text/plain": [
       "    ohms * cm2  replicate condition  time\n",
       "0        16.50          1  0 um cat     0\n",
       "1         8.58          1  0 um cat     1\n",
       "2         7.59          1  0 um cat     4\n",
       "3         8.58          1  0 um cat    24\n",
       "4        14.19          2  0 um cat     0\n",
       "..         ...        ...       ...   ...\n",
       "59        0.00          3      TNFa    24\n",
       "60       15.84          4      TNFa     0\n",
       "61       10.56          4      TNFa     1\n",
       "62        7.92          4      TNFa     4\n",
       "63        0.99          4      TNFa    24\n",
       "\n",
       "[64 rows x 4 columns]"
      ]
     },
     "execution_count": 3,
     "metadata": {},
     "output_type": "execute_result"
    }
   ],
   "source": [
    "df = pandas.read_csv(data_file, sep='\\t')\n",
    "df"
   ]
  },
  {
   "cell_type": "markdown",
   "metadata": {},
   "source": [
    "# 2. manipulate data"
   ]
  },
  {
   "cell_type": "markdown",
   "metadata": {},
   "source": [
    "## 2.1. select control"
   ]
  },
  {
   "cell_type": "code",
   "execution_count": 4,
   "metadata": {},
   "outputs": [],
   "source": [
    "treatment_labels = ['0 um cat', '0.5 um cat', '5 um cat', 'TNFa']\n",
    "time_points = [1, 4, 24]"
   ]
  },
  {
   "cell_type": "code",
   "execution_count": 5,
   "metadata": {
    "scrolled": false
   },
   "outputs": [
    {
     "name": "stdout",
     "output_type": "stream",
     "text": [
      "1 0 um cat\n",
      "1 0.5 um cat\n",
      "1 5 um cat\n",
      "1 TNFa\n",
      "4 0 um cat\n",
      "4 0.5 um cat\n",
      "4 5 um cat\n",
      "4 TNFa\n",
      "24 0 um cat\n",
      "24 0.5 um cat\n",
      "24 5 um cat\n",
      "24 TNFa\n"
     ]
    }
   ],
   "source": [
    "plotting_values = []\n",
    "\n",
    "for time_point in time_points:\n",
    "    for i in range(len(treatment_labels)):  \n",
    "\n",
    "        tl = treatment_labels[i]\n",
    "        #tc = treatment_colors[i]\n",
    "        print(time_point, tl)\n",
    "\n",
    "        sub = df[(df['condition'] == tl) & (df['time'] == time_point)]\n",
    "        \n",
    "        #print(sub)\n",
    "        \n",
    "        v = sub['ohms * cm2'].values\n",
    "        plotting_values.append(v)\n",
    "        \n",
    "        #print('values', v, numpy.median(v))\n",
    "        #print('\\n------------------') "
   ]
  },
  {
   "cell_type": "markdown",
   "metadata": {},
   "source": [
    "# plotting"
   ]
  },
  {
   "cell_type": "code",
   "execution_count": 6,
   "metadata": {},
   "outputs": [
    {
     "name": "stderr",
     "output_type": "stream",
     "text": [
      "findfont: Font family ['FreeSans'] not found. Falling back to DejaVu Sans.\n"
     ]
    },
    {
     "name": "stdout",
     "output_type": "stream",
     "text": [
      "[8.58 8.58 8.25 8.91] [ 8.58  8.25 10.56  8.25]\n",
      "\t 2 orange 9.0 0.8793886590272973\n",
      "[8.58 8.58 8.25 8.91] [4.95 4.62 4.95 8.91]\n",
      "\t 3 tab:red 12.5 0.23963904660799884\n",
      "[8.58 8.58 8.25 8.91] [ 8.58  8.58  7.59 10.56]\n",
      "\t 4 tab:green 8.0 1.0\n",
      "[7.59 7.26 6.93 6.6 ] [7.92 8.58 8.58 5.28]\n",
      "\t 10 orange 4.0 0.30942406036465897\n",
      "[7.59 7.26 6.93 6.6 ] [4.29 5.94 2.97 3.3 ]\n",
      "\t 11 tab:red 16.0 0.02857142857142857\n",
      "\t\t SIGNIFICANT\n",
      "[7.59 7.26 6.93 6.6 ] [5.28 7.26 7.92 7.92]\n",
      "\t 12 tab:green 5.5 0.5589857268413585\n",
      "[8.58 4.95 6.6  5.94] [6.93 6.93 5.28 4.95]\n",
      "\t 18 orange 8.5 1.0\n",
      "[8.58 4.95 6.6  5.94] [3.28 3.96 3.63 4.95]\n",
      "\t 19 tab:red 15.5 0.042066412206780826\n",
      "\t\t SIGNIFICANT\n",
      "[8.58 4.95 6.6  5.94] [0.99 1.98 0.   0.99]\n",
      "\t 20 tab:green 16.0 0.029401048190339642\n",
      "\t\t SIGNIFICANT\n"
     ]
    },
    {
     "data": {
      "image/png": "[encoded data removed]",
      "text/plain": [
       "<Figure size 1152x576 with 1 Axes>"
      ]
     },
     "metadata": {
      "needs_background": "light"
     },
     "output_type": "display_data"
    },
    {
     "data": {
      "text/plain": [
       "<Figure size 1152x576 with 0 Axes>"
      ]
     },
     "metadata": {},
     "output_type": "display_data"
    }
   ],
   "source": [
    "plotting_colors = ['black', 'orange', 'tab:red', 'tab:green', 'black', 'orange', 'tab:red', 'tab:green', 'black', 'orange', 'tab:red', 'tab:green']\n",
    "epsi = 0.25\n",
    "pos = 0\n",
    "wide = epsi*2\n",
    "\n",
    "for i in range(len(plotting_values)):\n",
    "    pos = pos + 1\n",
    "    \n",
    "    # mean values\n",
    "    mean = numpy.mean(plotting_values[i])\n",
    "    matplotlib.pyplot.plot([pos-epsi, pos+epsi], [mean, mean], '-', color=plotting_colors[i], lw=6, zorder=999)\n",
    "    \n",
    "    # dot plots\n",
    "    for element in plotting_values[i]:\n",
    "        random_pos = (pos-epsi) + random.random()*wide\n",
    "        matplotlib.pyplot.plot(random_pos, element, 'o', markersize=16, markerfacecolor='None', markeredgewidth=2, markeredgecolor=plotting_colors[i])\n",
    "        \n",
    "    # closing\n",
    "    matplotlib.pyplot.xticks(numpy.arange(1, 20+1))\n",
    "    \n",
    "    # hypothesis testing\n",
    "    if plotting_colors[i] == 'black':\n",
    "        background = plotting_values[i]\n",
    "\n",
    "    if plotting_colors[i] != 'black':\n",
    "        print(background, plotting_values[i])\n",
    "        umws, pvalue = scipy.stats.mannwhitneyu(background, plotting_values[i])   \n",
    "        print('\\t', pos, plotting_colors[i], umws, pvalue)\n",
    "        if pvalue < 0.01:\n",
    "            print('\\t\\t VERY')\n",
    "        if pvalue < 0.05:\n",
    "            print('\\t\\t SIGNIFICANT')\n",
    "    \n",
    "    # adjust the blocks\n",
    "    if (i+1)%4 == 0:\n",
    "        pos = pos + 4\n",
    "        \n",
    "# # legend\n",
    "# matplotlib.pyplot.plot(-1, 0.95, 'o', markersize=16, markerfacecolor='None', markeredgewidth=2, markeredgecolor='black', label='EGM')\n",
    "# matplotlib.pyplot.plot(-1, 0.95, 'o', markersize=16, markerfacecolor='None', markeredgewidth=2, markeredgecolor='orange', label='0.5 uM')\n",
    "# matplotlib.pyplot.plot(-1, 0.95, 'o', markersize=16, markerfacecolor='None', markeredgewidth=2, markeredgecolor='tab:red', label='5 uM')\n",
    "# matplotlib.pyplot.plot(-1, 0.95, 'o', markersize=16, markerfacecolor='None', markeredgewidth=2, markeredgecolor='tab:green', label='TNFa')\n",
    "\n",
    "# matplotlib.pyplot.legend(loc=3, ncol=2)\n",
    "\n",
    "matplotlib.pyplot.xlim(0, 21)\n",
    "matplotlib.pyplot.ylim(-1, 13)\n",
    "\n",
    "# end\n",
    "matplotlib.pyplot.xlabel('Sample')\n",
    "matplotlib.pyplot.ylabel('Relative resistance')\n",
    "\n",
    "matplotlib.pyplot.tight_layout()\n",
    "\n",
    "### these two lines are exclusive\n",
    "matplotlib.pyplot.show()\n",
    "#matplotlib.pyplot.savefig('permeability.svg')\n",
    "### end of lines exclusivity\n",
    "\n",
    "matplotlib.pyplot.clf()"
   ]
  },
  {
   "cell_type": "markdown",
   "metadata": {},
   "source": [
    " "
   ]
  },
  {
   "cell_type": "code",
   "execution_count": null,
   "metadata": {},
   "outputs": [],
   "source": []
  }
 ],
 "metadata": {
  "kernelspec": {
   "display_name": "Python 3 (ipykernel)",
   "language": "python",
   "name": "python3"
  },
  "language_info": {
   "codemirror_mode": {
    "name": "ipython",
    "version": 3
   },
   "file_extension": ".py",
   "mimetype": "text/x-python",
   "name": "python",
   "nbconvert_exporter": "python",
   "pygments_lexer": "ipython3",
   "version": "3.8.12"
  }
 },
 "nbformat": 4,
 "nbformat_minor": 4
}
